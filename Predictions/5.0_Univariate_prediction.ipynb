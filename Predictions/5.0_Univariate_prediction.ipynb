{
 "cells": [
  {
   "cell_type": "code",
   "execution_count": 2,
   "metadata": {},
   "outputs": [],
   "source": [
    "import helper_data_load as helper_load\n",
    "import os\n",
    "import helper_prediction_class as helper\n",
    "import numpy as np\n",
    "import pandas as pd\n",
    "from scipy.stats import wilcoxon, kruskal\n",
    "import statsmodels.api as sm\n",
    "from matplotlib import pyplot as plt\n",
    "from statsmodels.graphics.regressionplots import abline_plot\n",
    "import matplotlib.pyplot as plt"
   ]
  },
  {
   "attachments": {},
   "cell_type": "markdown",
   "metadata": {},
   "source": [
    "# OS Paper Univariate Analysis\n",
    "## Clinical Features"
   ]
  },
  {
   "cell_type": "code",
   "execution_count": 3,
   "metadata": {},
   "outputs": [
    {
     "name": "stdout",
     "output_type": "stream",
     "text": [
      "223 patients with clinical and radiation data for CHUM.\n",
      "162 patients with clinical and radiation data for IUCPQ.\n",
      "223 patients after drop NaN - CHUM.\n",
      "162 patients after drop NaN - IUCPQ.\n"
     ]
    },
    {
     "name": "stderr",
     "output_type": "stream",
     "text": [
      "/Users/iucpq/Documents/IUCPQ/IUCPQ/Predictions/helper_data_load.py:42: FutureWarning: The default value of regex will change from True to False in a future version. In addition, single character regular expressions will *not* be treated as literal strings when regex=True.\n",
      "  data_norm.columns = data_norm.columns.str.replace('.','_')\n",
      "/Users/iucpq/Documents/IUCPQ/IUCPQ/Predictions/helper_data_load.py:42: FutureWarning: The default value of regex will change from True to False in a future version. In addition, single character regular expressions will *not* be treated as literal strings when regex=True.\n",
      "  data_norm.columns = data_norm.columns.str.replace('.','_')\n"
     ]
    }
   ],
   "source": [
    "predictor = \"os_days\"\n",
    "data_norm_chum, data_norm_iucpq = helper_load.get_norm_data(local=True, predictor=predictor, classification=False, univar=True)"
   ]
  },
  {
   "cell_type": "code",
   "execution_count": 4,
   "metadata": {},
   "outputs": [
    {
     "data": {
      "text/html": [
       "<div>\n",
       "<style scoped>\n",
       "    .dataframe tbody tr th:only-of-type {\n",
       "        vertical-align: middle;\n",
       "    }\n",
       "\n",
       "    .dataframe tbody tr th {\n",
       "        vertical-align: top;\n",
       "    }\n",
       "\n",
       "    .dataframe thead th {\n",
       "        text-align: right;\n",
       "    }\n",
       "</style>\n",
       "<table border=\"1\" class=\"dataframe\">\n",
       "  <thead>\n",
       "    <tr style=\"text-align: right;\">\n",
       "      <th></th>\n",
       "      <th>original_shape_Elongation</th>\n",
       "      <th>original_shape_Flatness</th>\n",
       "      <th>original_shape_LeastAxisLength</th>\n",
       "      <th>original_shape_MajorAxisLength</th>\n",
       "      <th>original_shape_Maximum2DDiameterColumn</th>\n",
       "      <th>original_shape_Maximum2DDiameterRow</th>\n",
       "      <th>original_shape_Maximum2DDiameterSlice</th>\n",
       "      <th>original_shape_Maximum3DDiameter</th>\n",
       "      <th>original_shape_MeshVolume</th>\n",
       "      <th>original_shape_MinorAxisLength</th>\n",
       "      <th>...</th>\n",
       "      <th>wavelet_LLL_gldm_SmallDependenceEmphasis</th>\n",
       "      <th>wavelet_LLL_gldm_SmallDependenceHighGrayLevelEmphasis</th>\n",
       "      <th>wavelet_LLL_gldm_SmallDependenceLowGrayLevelEmphasis</th>\n",
       "      <th>os_days</th>\n",
       "      <th>age</th>\n",
       "      <th>smoking_habit</th>\n",
       "      <th>ecog_status</th>\n",
       "      <th>sex</th>\n",
       "      <th>first_line_io</th>\n",
       "      <th>histology_group</th>\n",
       "    </tr>\n",
       "  </thead>\n",
       "  <tbody>\n",
       "    <tr>\n",
       "      <th>0</th>\n",
       "      <td>-0.393136</td>\n",
       "      <td>0.283262</td>\n",
       "      <td>0.336321</td>\n",
       "      <td>0.245215</td>\n",
       "      <td>0.189895</td>\n",
       "      <td>0.189035</td>\n",
       "      <td>0.189321</td>\n",
       "      <td>0.174989</td>\n",
       "      <td>-0.247881</td>\n",
       "      <td>0.139236</td>\n",
       "      <td>...</td>\n",
       "      <td>0.159905</td>\n",
       "      <td>1.068501</td>\n",
       "      <td>-0.185721</td>\n",
       "      <td>-1.180508</td>\n",
       "      <td>-0.137304</td>\n",
       "      <td>0.398815</td>\n",
       "      <td>1.776265</td>\n",
       "      <td>0.975606</td>\n",
       "      <td>-0.692550</td>\n",
       "      <td>-0.537043</td>\n",
       "    </tr>\n",
       "    <tr>\n",
       "      <th>1</th>\n",
       "      <td>0.828865</td>\n",
       "      <td>0.514652</td>\n",
       "      <td>-0.371046</td>\n",
       "      <td>-0.509350</td>\n",
       "      <td>-0.394987</td>\n",
       "      <td>-0.404016</td>\n",
       "      <td>-0.384007</td>\n",
       "      <td>-0.396816</td>\n",
       "      <td>-0.373009</td>\n",
       "      <td>-0.389273</td>\n",
       "      <td>...</td>\n",
       "      <td>-1.005882</td>\n",
       "      <td>-0.256738</td>\n",
       "      <td>-0.180957</td>\n",
       "      <td>-0.823333</td>\n",
       "      <td>1.753404</td>\n",
       "      <td>0.398815</td>\n",
       "      <td>0.358753</td>\n",
       "      <td>0.975606</td>\n",
       "      <td>-0.692550</td>\n",
       "      <td>-0.537043</td>\n",
       "    </tr>\n",
       "    <tr>\n",
       "      <th>2</th>\n",
       "      <td>0.253480</td>\n",
       "      <td>0.176341</td>\n",
       "      <td>-0.137651</td>\n",
       "      <td>-0.190067</td>\n",
       "      <td>-0.028457</td>\n",
       "      <td>-0.039617</td>\n",
       "      <td>-0.027296</td>\n",
       "      <td>-0.044071</td>\n",
       "      <td>-0.364417</td>\n",
       "      <td>-0.151735</td>\n",
       "      <td>...</td>\n",
       "      <td>0.802021</td>\n",
       "      <td>1.133791</td>\n",
       "      <td>-0.187822</td>\n",
       "      <td>-1.308725</td>\n",
       "      <td>-0.569502</td>\n",
       "      <td>0.398815</td>\n",
       "      <td>3.193777</td>\n",
       "      <td>-1.025004</td>\n",
       "      <td>-0.692550</td>\n",
       "      <td>-0.537043</td>\n",
       "    </tr>\n",
       "    <tr>\n",
       "      <th>3</th>\n",
       "      <td>0.842593</td>\n",
       "      <td>0.672671</td>\n",
       "      <td>1.258857</td>\n",
       "      <td>0.951152</td>\n",
       "      <td>0.982889</td>\n",
       "      <td>1.013922</td>\n",
       "      <td>0.982803</td>\n",
       "      <td>0.964501</td>\n",
       "      <td>0.975274</td>\n",
       "      <td>1.134368</td>\n",
       "      <td>...</td>\n",
       "      <td>-1.106082</td>\n",
       "      <td>0.457083</td>\n",
       "      <td>-0.201958</td>\n",
       "      <td>-0.635587</td>\n",
       "      <td>0.904687</td>\n",
       "      <td>0.398815</td>\n",
       "      <td>-1.058759</td>\n",
       "      <td>0.975606</td>\n",
       "      <td>-0.692550</td>\n",
       "      <td>-0.537043</td>\n",
       "    </tr>\n",
       "    <tr>\n",
       "      <th>4</th>\n",
       "      <td>-0.939443</td>\n",
       "      <td>-0.595030</td>\n",
       "      <td>0.427970</td>\n",
       "      <td>0.766062</td>\n",
       "      <td>0.671400</td>\n",
       "      <td>0.692028</td>\n",
       "      <td>0.675638</td>\n",
       "      <td>0.657732</td>\n",
       "      <td>-0.108802</td>\n",
       "      <td>0.470286</td>\n",
       "      <td>...</td>\n",
       "      <td>-0.629614</td>\n",
       "      <td>0.101537</td>\n",
       "      <td>-0.196170</td>\n",
       "      <td>-0.150194</td>\n",
       "      <td>0.180011</td>\n",
       "      <td>-1.501421</td>\n",
       "      <td>1.776265</td>\n",
       "      <td>0.975606</td>\n",
       "      <td>-0.692550</td>\n",
       "      <td>2.269440</td>\n",
       "    </tr>\n",
       "    <tr>\n",
       "      <th>...</th>\n",
       "      <td>...</td>\n",
       "      <td>...</td>\n",
       "      <td>...</td>\n",
       "      <td>...</td>\n",
       "      <td>...</td>\n",
       "      <td>...</td>\n",
       "      <td>...</td>\n",
       "      <td>...</td>\n",
       "      <td>...</td>\n",
       "      <td>...</td>\n",
       "      <td>...</td>\n",
       "      <td>...</td>\n",
       "      <td>...</td>\n",
       "      <td>...</td>\n",
       "      <td>...</td>\n",
       "      <td>...</td>\n",
       "      <td>...</td>\n",
       "      <td>...</td>\n",
       "      <td>...</td>\n",
       "      <td>...</td>\n",
       "      <td>...</td>\n",
       "    </tr>\n",
       "    <tr>\n",
       "      <th>157</th>\n",
       "      <td>-1.831888</td>\n",
       "      <td>-1.054257</td>\n",
       "      <td>-0.958150</td>\n",
       "      <td>-0.776524</td>\n",
       "      <td>-0.802110</td>\n",
       "      <td>-0.799463</td>\n",
       "      <td>-0.804681</td>\n",
       "      <td>-0.791615</td>\n",
       "      <td>-0.487101</td>\n",
       "      <td>-0.942236</td>\n",
       "      <td>...</td>\n",
       "      <td>1.103219</td>\n",
       "      <td>-0.510397</td>\n",
       "      <td>-0.105429</td>\n",
       "      <td>0.797695</td>\n",
       "      <td>-1.557936</td>\n",
       "      <td>-1.501421</td>\n",
       "      <td>-1.058759</td>\n",
       "      <td>0.975606</td>\n",
       "      <td>1.060467</td>\n",
       "      <td>-0.537043</td>\n",
       "    </tr>\n",
       "    <tr>\n",
       "      <th>158</th>\n",
       "      <td>1.098226</td>\n",
       "      <td>-0.674374</td>\n",
       "      <td>2.537750</td>\n",
       "      <td>3.370269</td>\n",
       "      <td>3.856646</td>\n",
       "      <td>3.602060</td>\n",
       "      <td>3.726719</td>\n",
       "      <td>3.819236</td>\n",
       "      <td>4.656323</td>\n",
       "      <td>3.792200</td>\n",
       "      <td>...</td>\n",
       "      <td>-1.917050</td>\n",
       "      <td>-0.840131</td>\n",
       "      <td>-0.203220</td>\n",
       "      <td>-1.233169</td>\n",
       "      <td>0.281019</td>\n",
       "      <td>-1.501421</td>\n",
       "      <td>0.358753</td>\n",
       "      <td>-1.025004</td>\n",
       "      <td>1.060467</td>\n",
       "      <td>-0.537043</td>\n",
       "    </tr>\n",
       "    <tr>\n",
       "      <th>159</th>\n",
       "      <td>-0.518182</td>\n",
       "      <td>-0.110921</td>\n",
       "      <td>1.548005</td>\n",
       "      <td>1.706226</td>\n",
       "      <td>1.641948</td>\n",
       "      <td>1.296889</td>\n",
       "      <td>1.647274</td>\n",
       "      <td>1.623764</td>\n",
       "      <td>1.007679</td>\n",
       "      <td>1.427725</td>\n",
       "      <td>...</td>\n",
       "      <td>-0.366128</td>\n",
       "      <td>0.928515</td>\n",
       "      <td>-0.201783</td>\n",
       "      <td>-1.311015</td>\n",
       "      <td>-0.032411</td>\n",
       "      <td>-1.501421</td>\n",
       "      <td>-1.058759</td>\n",
       "      <td>-1.025004</td>\n",
       "      <td>1.060467</td>\n",
       "      <td>2.269440</td>\n",
       "    </tr>\n",
       "    <tr>\n",
       "      <th>160</th>\n",
       "      <td>0.590184</td>\n",
       "      <td>0.142503</td>\n",
       "      <td>0.955901</td>\n",
       "      <td>0.930293</td>\n",
       "      <td>0.855116</td>\n",
       "      <td>0.884197</td>\n",
       "      <td>0.855423</td>\n",
       "      <td>0.834190</td>\n",
       "      <td>0.593542</td>\n",
       "      <td>1.041560</td>\n",
       "      <td>...</td>\n",
       "      <td>-1.696365</td>\n",
       "      <td>-0.942288</td>\n",
       "      <td>-0.205297</td>\n",
       "      <td>-0.892020</td>\n",
       "      <td>1.613269</td>\n",
       "      <td>0.398815</td>\n",
       "      <td>-1.058759</td>\n",
       "      <td>0.975606</td>\n",
       "      <td>-0.692550</td>\n",
       "      <td>-0.537043</td>\n",
       "    </tr>\n",
       "    <tr>\n",
       "      <th>161</th>\n",
       "      <td>1.061978</td>\n",
       "      <td>0.427689</td>\n",
       "      <td>0.452691</td>\n",
       "      <td>0.302284</td>\n",
       "      <td>0.401455</td>\n",
       "      <td>0.419741</td>\n",
       "      <td>0.409052</td>\n",
       "      <td>0.391434</td>\n",
       "      <td>0.077799</td>\n",
       "      <td>0.505635</td>\n",
       "      <td>...</td>\n",
       "      <td>-1.460788</td>\n",
       "      <td>-0.748598</td>\n",
       "      <td>-0.203723</td>\n",
       "      <td>-0.729460</td>\n",
       "      <td>-1.302225</td>\n",
       "      <td>-1.501421</td>\n",
       "      <td>0.358753</td>\n",
       "      <td>0.975606</td>\n",
       "      <td>1.060467</td>\n",
       "      <td>-0.537043</td>\n",
       "    </tr>\n",
       "  </tbody>\n",
       "</table>\n",
       "<p>162 rows × 858 columns</p>\n",
       "</div>"
      ],
      "text/plain": [
       "     original_shape_Elongation  original_shape_Flatness  \\\n",
       "0                    -0.393136                 0.283262   \n",
       "1                     0.828865                 0.514652   \n",
       "2                     0.253480                 0.176341   \n",
       "3                     0.842593                 0.672671   \n",
       "4                    -0.939443                -0.595030   \n",
       "..                         ...                      ...   \n",
       "157                  -1.831888                -1.054257   \n",
       "158                   1.098226                -0.674374   \n",
       "159                  -0.518182                -0.110921   \n",
       "160                   0.590184                 0.142503   \n",
       "161                   1.061978                 0.427689   \n",
       "\n",
       "     original_shape_LeastAxisLength  original_shape_MajorAxisLength  \\\n",
       "0                          0.336321                        0.245215   \n",
       "1                         -0.371046                       -0.509350   \n",
       "2                         -0.137651                       -0.190067   \n",
       "3                          1.258857                        0.951152   \n",
       "4                          0.427970                        0.766062   \n",
       "..                              ...                             ...   \n",
       "157                       -0.958150                       -0.776524   \n",
       "158                        2.537750                        3.370269   \n",
       "159                        1.548005                        1.706226   \n",
       "160                        0.955901                        0.930293   \n",
       "161                        0.452691                        0.302284   \n",
       "\n",
       "     original_shape_Maximum2DDiameterColumn  \\\n",
       "0                                  0.189895   \n",
       "1                                 -0.394987   \n",
       "2                                 -0.028457   \n",
       "3                                  0.982889   \n",
       "4                                  0.671400   \n",
       "..                                      ...   \n",
       "157                               -0.802110   \n",
       "158                                3.856646   \n",
       "159                                1.641948   \n",
       "160                                0.855116   \n",
       "161                                0.401455   \n",
       "\n",
       "     original_shape_Maximum2DDiameterRow  \\\n",
       "0                               0.189035   \n",
       "1                              -0.404016   \n",
       "2                              -0.039617   \n",
       "3                               1.013922   \n",
       "4                               0.692028   \n",
       "..                                   ...   \n",
       "157                            -0.799463   \n",
       "158                             3.602060   \n",
       "159                             1.296889   \n",
       "160                             0.884197   \n",
       "161                             0.419741   \n",
       "\n",
       "     original_shape_Maximum2DDiameterSlice  original_shape_Maximum3DDiameter  \\\n",
       "0                                 0.189321                          0.174989   \n",
       "1                                -0.384007                         -0.396816   \n",
       "2                                -0.027296                         -0.044071   \n",
       "3                                 0.982803                          0.964501   \n",
       "4                                 0.675638                          0.657732   \n",
       "..                                     ...                               ...   \n",
       "157                              -0.804681                         -0.791615   \n",
       "158                               3.726719                          3.819236   \n",
       "159                               1.647274                          1.623764   \n",
       "160                               0.855423                          0.834190   \n",
       "161                               0.409052                          0.391434   \n",
       "\n",
       "     original_shape_MeshVolume  original_shape_MinorAxisLength  ...  \\\n",
       "0                    -0.247881                        0.139236  ...   \n",
       "1                    -0.373009                       -0.389273  ...   \n",
       "2                    -0.364417                       -0.151735  ...   \n",
       "3                     0.975274                        1.134368  ...   \n",
       "4                    -0.108802                        0.470286  ...   \n",
       "..                         ...                             ...  ...   \n",
       "157                  -0.487101                       -0.942236  ...   \n",
       "158                   4.656323                        3.792200  ...   \n",
       "159                   1.007679                        1.427725  ...   \n",
       "160                   0.593542                        1.041560  ...   \n",
       "161                   0.077799                        0.505635  ...   \n",
       "\n",
       "     wavelet_LLL_gldm_SmallDependenceEmphasis  \\\n",
       "0                                    0.159905   \n",
       "1                                   -1.005882   \n",
       "2                                    0.802021   \n",
       "3                                   -1.106082   \n",
       "4                                   -0.629614   \n",
       "..                                        ...   \n",
       "157                                  1.103219   \n",
       "158                                 -1.917050   \n",
       "159                                 -0.366128   \n",
       "160                                 -1.696365   \n",
       "161                                 -1.460788   \n",
       "\n",
       "     wavelet_LLL_gldm_SmallDependenceHighGrayLevelEmphasis  \\\n",
       "0                                             1.068501       \n",
       "1                                            -0.256738       \n",
       "2                                             1.133791       \n",
       "3                                             0.457083       \n",
       "4                                             0.101537       \n",
       "..                                                 ...       \n",
       "157                                          -0.510397       \n",
       "158                                          -0.840131       \n",
       "159                                           0.928515       \n",
       "160                                          -0.942288       \n",
       "161                                          -0.748598       \n",
       "\n",
       "     wavelet_LLL_gldm_SmallDependenceLowGrayLevelEmphasis   os_days       age  \\\n",
       "0                                            -0.185721    -1.180508 -0.137304   \n",
       "1                                            -0.180957    -0.823333  1.753404   \n",
       "2                                            -0.187822    -1.308725 -0.569502   \n",
       "3                                            -0.201958    -0.635587  0.904687   \n",
       "4                                            -0.196170    -0.150194  0.180011   \n",
       "..                                                 ...          ...       ...   \n",
       "157                                          -0.105429     0.797695 -1.557936   \n",
       "158                                          -0.203220    -1.233169  0.281019   \n",
       "159                                          -0.201783    -1.311015 -0.032411   \n",
       "160                                          -0.205297    -0.892020  1.613269   \n",
       "161                                          -0.203723    -0.729460 -1.302225   \n",
       "\n",
       "     smoking_habit  ecog_status       sex  first_line_io  histology_group  \n",
       "0         0.398815     1.776265  0.975606      -0.692550        -0.537043  \n",
       "1         0.398815     0.358753  0.975606      -0.692550        -0.537043  \n",
       "2         0.398815     3.193777 -1.025004      -0.692550        -0.537043  \n",
       "3         0.398815    -1.058759  0.975606      -0.692550        -0.537043  \n",
       "4        -1.501421     1.776265  0.975606      -0.692550         2.269440  \n",
       "..             ...          ...       ...            ...              ...  \n",
       "157      -1.501421    -1.058759  0.975606       1.060467        -0.537043  \n",
       "158      -1.501421     0.358753 -1.025004       1.060467        -0.537043  \n",
       "159      -1.501421    -1.058759 -1.025004       1.060467         2.269440  \n",
       "160       0.398815    -1.058759  0.975606      -0.692550        -0.537043  \n",
       "161      -1.501421     0.358753  0.975606       1.060467        -0.537043  \n",
       "\n",
       "[162 rows x 858 columns]"
      ]
     },
     "execution_count": 4,
     "metadata": {},
     "output_type": "execute_result"
    }
   ],
   "source": [
    "data_norm_iucpq"
   ]
  },
  {
   "cell_type": "code",
   "execution_count": 6,
   "metadata": {},
   "outputs": [
    {
     "name": "stdout",
     "output_type": "stream",
     "text": [
      "Chum:  False\n",
      "Iucpq:  False\n",
      "Chum:  False\n",
      "Iucpq:  False\n",
      "Chum:  False\n",
      "Iucpq:  False\n",
      "Chum:  False\n",
      "Iucpq:  False\n",
      "Chum:  False\n",
      "Iucpq:  False\n",
      "Chum:  False\n",
      "Iucpq:  False\n"
     ]
    }
   ],
   "source": [
    "# Check availability\n",
    "clinical_features = [\"age\",\t\"smoking_habit\", \"ecog_status\", \"sex\", \"first_line_io\", \"histology_group\"]\n",
    "\n",
    "for feat in clinical_features:\n",
    "    print(\"Chum: \", data_norm_chum[feat].isna().any().any())\n",
    "    print(\"Iucpq: \", data_norm_iucpq[feat].isna().any().any())"
   ]
  },
  {
   "cell_type": "code",
   "execution_count": 5,
   "metadata": {},
   "outputs": [
    {
     "name": "stdout",
     "output_type": "stream",
     "text": [
      "[7.42553843e-01 8.91943559e-01 1.43329437e-06 1.16048653e-01\n",
      " 1.10409160e-02 3.30072135e-01]\n",
      "[8.91064612e-01 8.91943559e-01 8.59976619e-06 2.32097306e-01\n",
      " 3.31227481e-02 4.95108203e-01]\n"
     ]
    }
   ],
   "source": [
    "from statsmodels.stats.multitest import fdrcorrection\n",
    "from scipy.stats import pearsonr\n",
    "\n",
    "clinical_features = [\"age\",\t\"smoking_habit\",\t\"ecog_status\",\t\"sex\",\t\"first_line_io\",\t\"histology_group\"]\n",
    "\n",
    "col_names = [\"feat\", \"corr\", \"p_val\"]\n",
    "clinical_stats_df = pd.DataFrame(columns=col_names)\n",
    "for feat in clinical_features:\n",
    "    corr, p = pearsonr(data_norm_chum[feat], data_norm_chum[\"os_days\"])\n",
    "    temp_list = [feat, corr, p]\n",
    "    new_row = pd.DataFrame(dict(zip(col_names, temp_list)), index= [0])\n",
    "    clinical_stats_df = pd.concat([clinical_stats_df, new_row])\n",
    "\n",
    "p_val_arr = np.array(clinical_stats_df[\"p_val\"])\n",
    "print(p_val_arr)\n",
    "reject, p_val_corrected = fdrcorrection(pvals=p_val_arr)\n",
    "print(p_val_corrected)\n",
    "clinical_stats_df[\"FDR_corr\"] = p_val_corrected\n",
    "clinical_stats_df[\"-log10(FDR)\"] = -np.log10(p_val_corrected)"
   ]
  },
  {
   "cell_type": "code",
   "execution_count": 6,
   "metadata": {},
   "outputs": [
    {
     "data": {
      "text/html": [
       "<div>\n",
       "<style scoped>\n",
       "    .dataframe tbody tr th:only-of-type {\n",
       "        vertical-align: middle;\n",
       "    }\n",
       "\n",
       "    .dataframe tbody tr th {\n",
       "        vertical-align: top;\n",
       "    }\n",
       "\n",
       "    .dataframe thead th {\n",
       "        text-align: right;\n",
       "    }\n",
       "</style>\n",
       "<table border=\"1\" class=\"dataframe\">\n",
       "  <thead>\n",
       "    <tr style=\"text-align: right;\">\n",
       "      <th></th>\n",
       "      <th>feat</th>\n",
       "      <th>corr</th>\n",
       "      <th>p_val</th>\n",
       "      <th>FDR_corr</th>\n",
       "      <th>-log10(FDR)</th>\n",
       "    </tr>\n",
       "  </thead>\n",
       "  <tbody>\n",
       "    <tr>\n",
       "      <th>0</th>\n",
       "      <td>age</td>\n",
       "      <td>-0.02212</td>\n",
       "      <td>0.74255</td>\n",
       "      <td>0.89106</td>\n",
       "      <td>0.05009</td>\n",
       "    </tr>\n",
       "    <tr>\n",
       "      <th>0</th>\n",
       "      <td>smoking_habit</td>\n",
       "      <td>0.00915</td>\n",
       "      <td>0.89194</td>\n",
       "      <td>0.89194</td>\n",
       "      <td>0.04966</td>\n",
       "    </tr>\n",
       "    <tr>\n",
       "      <th>0</th>\n",
       "      <td>ecog_status</td>\n",
       "      <td>-0.31625</td>\n",
       "      <td>0.00000</td>\n",
       "      <td>0.00001</td>\n",
       "      <td>5.06551</td>\n",
       "    </tr>\n",
       "    <tr>\n",
       "      <th>0</th>\n",
       "      <td>sex</td>\n",
       "      <td>-0.10554</td>\n",
       "      <td>0.11605</td>\n",
       "      <td>0.23210</td>\n",
       "      <td>0.63433</td>\n",
       "    </tr>\n",
       "    <tr>\n",
       "      <th>0</th>\n",
       "      <td>first_line_io</td>\n",
       "      <td>-0.16990</td>\n",
       "      <td>0.01104</td>\n",
       "      <td>0.03312</td>\n",
       "      <td>1.47987</td>\n",
       "    </tr>\n",
       "    <tr>\n",
       "      <th>0</th>\n",
       "      <td>histology_group</td>\n",
       "      <td>-0.06552</td>\n",
       "      <td>0.33007</td>\n",
       "      <td>0.49511</td>\n",
       "      <td>0.30530</td>\n",
       "    </tr>\n",
       "  </tbody>\n",
       "</table>\n",
       "</div>"
      ],
      "text/plain": [
       "              feat     corr    p_val  FDR_corr  -log10(FDR)\n",
       "0              age -0.02212  0.74255   0.89106      0.05009\n",
       "0    smoking_habit  0.00915  0.89194   0.89194      0.04966\n",
       "0      ecog_status -0.31625  0.00000   0.00001      5.06551\n",
       "0              sex -0.10554  0.11605   0.23210      0.63433\n",
       "0    first_line_io -0.16990  0.01104   0.03312      1.47987\n",
       "0  histology_group -0.06552  0.33007   0.49511      0.30530"
      ]
     },
     "execution_count": 6,
     "metadata": {},
     "output_type": "execute_result"
    }
   ],
   "source": [
    "clinical_stats_df.round(5)"
   ]
  },
  {
   "attachments": {},
   "cell_type": "markdown",
   "metadata": {},
   "source": [
    "## Radiomics features"
   ]
  },
  {
   "cell_type": "code",
   "execution_count": 7,
   "metadata": {},
   "outputs": [],
   "source": [
    "def get_radiomics_feats(df, clinical_features):\n",
    "    radiomics_features = list(df.columns)\n",
    "    for feat in clinical_features:\n",
    "        radiomics_features.remove(feat)\n",
    "    radiomics_features.remove(predictor)\n",
    "    return radiomics_features\n"
   ]
  },
  {
   "attachments": {},
   "cell_type": "markdown",
   "metadata": {},
   "source": [
    "### Pearson"
   ]
  },
  {
   "cell_type": "code",
   "execution_count": 19,
   "metadata": {},
   "outputs": [],
   "source": [
    "from statsmodels.stats.multitest import fdrcorrection\n",
    "from scipy.stats import pearsonr\n",
    "from scipy.stats import spearmanr\n",
    "radiomics_features = get_radiomics_feats(data_norm_chum, clinical_features)\n",
    "def get_p_values_per_radFeat(df):\n",
    "    \n",
    "\n",
    "    col_names = [\"feat\", \"corr\", \"p_val\"]\n",
    "    radiomics_stats_df = pd.DataFrame(columns=col_names)\n",
    "    for feat in radiomics_features:\n",
    "        corr, p = pearsonr(df[feat], df[\"os_days\"])\n",
    "        temp_list = [feat, corr, p]\n",
    "        new_row = pd.DataFrame(dict(zip(col_names, temp_list)), index= [0])\n",
    "        radiomics_stats_df = pd.concat([radiomics_stats_df, new_row])\n",
    "\n",
    "    p_val_arr = np.array(radiomics_stats_df[\"p_val\"])\n",
    "    #print(p_val_arr)\n",
    "    reject, p_val_corrected = fdrcorrection(pvals=p_val_arr)\n",
    "    #print(p_val_corrected)\n",
    "    radiomics_stats_df[\"FDR_corr\"] = p_val_corrected\n",
    "    radiomics_stats_df[\"-log10(FDR)\"] = -np.log10(p_val_corrected)\n",
    "    return radiomics_stats_df\n",
    "\n",
    "radiomics_stats_df_chum = get_p_values_per_radFeat(data_norm_chum)\n",
    "radiomics_stats_df_iucpq = get_p_values_per_radFeat(data_norm_iucpq)"
   ]
  },
  {
   "cell_type": "code",
   "execution_count": 20,
   "metadata": {},
   "outputs": [
    {
     "data": {
      "text/html": [
       "<div>\n",
       "<style scoped>\n",
       "    .dataframe tbody tr th:only-of-type {\n",
       "        vertical-align: middle;\n",
       "    }\n",
       "\n",
       "    .dataframe tbody tr th {\n",
       "        vertical-align: top;\n",
       "    }\n",
       "\n",
       "    .dataframe thead th {\n",
       "        text-align: right;\n",
       "    }\n",
       "</style>\n",
       "<table border=\"1\" class=\"dataframe\">\n",
       "  <thead>\n",
       "    <tr style=\"text-align: right;\">\n",
       "      <th></th>\n",
       "      <th>feat</th>\n",
       "      <th>corr</th>\n",
       "      <th>p_val</th>\n",
       "      <th>FDR_corr</th>\n",
       "      <th>-log10(FDR)</th>\n",
       "    </tr>\n",
       "  </thead>\n",
       "  <tbody>\n",
       "    <tr>\n",
       "      <th>0</th>\n",
       "      <td>original_shape_Elongation</td>\n",
       "      <td>-0.181332</td>\n",
       "      <td>0.020928</td>\n",
       "      <td>0.065236</td>\n",
       "      <td>1.185512</td>\n",
       "    </tr>\n",
       "    <tr>\n",
       "      <th>0</th>\n",
       "      <td>original_shape_Flatness</td>\n",
       "      <td>-0.228129</td>\n",
       "      <td>0.003503</td>\n",
       "      <td>0.022416</td>\n",
       "      <td>1.649436</td>\n",
       "    </tr>\n",
       "    <tr>\n",
       "      <th>0</th>\n",
       "      <td>original_shape_LeastAxisLength</td>\n",
       "      <td>-0.234673</td>\n",
       "      <td>0.002648</td>\n",
       "      <td>0.020547</td>\n",
       "      <td>1.687259</td>\n",
       "    </tr>\n",
       "    <tr>\n",
       "      <th>0</th>\n",
       "      <td>original_shape_MajorAxisLength</td>\n",
       "      <td>-0.206982</td>\n",
       "      <td>0.008224</td>\n",
       "      <td>0.035951</td>\n",
       "      <td>1.444286</td>\n",
       "    </tr>\n",
       "    <tr>\n",
       "      <th>0</th>\n",
       "      <td>original_shape_Maximum2DDiameterColumn</td>\n",
       "      <td>-0.229182</td>\n",
       "      <td>0.003351</td>\n",
       "      <td>0.022375</td>\n",
       "      <td>1.650229</td>\n",
       "    </tr>\n",
       "    <tr>\n",
       "      <th>...</th>\n",
       "      <td>...</td>\n",
       "      <td>...</td>\n",
       "      <td>...</td>\n",
       "      <td>...</td>\n",
       "      <td>...</td>\n",
       "    </tr>\n",
       "    <tr>\n",
       "      <th>0</th>\n",
       "      <td>wavelet_LLL_gldm_LargeDependenceLowGrayLevelEm...</td>\n",
       "      <td>0.001996</td>\n",
       "      <td>0.979893</td>\n",
       "      <td>0.981046</td>\n",
       "      <td>0.008311</td>\n",
       "    </tr>\n",
       "    <tr>\n",
       "      <th>0</th>\n",
       "      <td>wavelet_LLL_gldm_LowGrayLevelEmphasis</td>\n",
       "      <td>0.113731</td>\n",
       "      <td>0.149575</td>\n",
       "      <td>0.249585</td>\n",
       "      <td>0.602782</td>\n",
       "    </tr>\n",
       "    <tr>\n",
       "      <th>0</th>\n",
       "      <td>wavelet_LLL_gldm_SmallDependenceEmphasis</td>\n",
       "      <td>0.222073</td>\n",
       "      <td>0.004509</td>\n",
       "      <td>0.024851</td>\n",
       "      <td>1.604655</td>\n",
       "    </tr>\n",
       "    <tr>\n",
       "      <th>0</th>\n",
       "      <td>wavelet_LLL_gldm_SmallDependenceHighGrayLevelE...</td>\n",
       "      <td>0.014410</td>\n",
       "      <td>0.855582</td>\n",
       "      <td>0.891187</td>\n",
       "      <td>0.050031</td>\n",
       "    </tr>\n",
       "    <tr>\n",
       "      <th>0</th>\n",
       "      <td>wavelet_LLL_gldm_SmallDependenceLowGrayLevelEm...</td>\n",
       "      <td>0.125811</td>\n",
       "      <td>0.110655</td>\n",
       "      <td>0.207418</td>\n",
       "      <td>0.683154</td>\n",
       "    </tr>\n",
       "  </tbody>\n",
       "</table>\n",
       "<p>851 rows × 5 columns</p>\n",
       "</div>"
      ],
      "text/plain": [
       "                                                 feat      corr     p_val  \\\n",
       "0                           original_shape_Elongation -0.181332  0.020928   \n",
       "0                             original_shape_Flatness -0.228129  0.003503   \n",
       "0                      original_shape_LeastAxisLength -0.234673  0.002648   \n",
       "0                      original_shape_MajorAxisLength -0.206982  0.008224   \n",
       "0              original_shape_Maximum2DDiameterColumn -0.229182  0.003351   \n",
       "..                                                ...       ...       ...   \n",
       "0   wavelet_LLL_gldm_LargeDependenceLowGrayLevelEm...  0.001996  0.979893   \n",
       "0               wavelet_LLL_gldm_LowGrayLevelEmphasis  0.113731  0.149575   \n",
       "0            wavelet_LLL_gldm_SmallDependenceEmphasis  0.222073  0.004509   \n",
       "0   wavelet_LLL_gldm_SmallDependenceHighGrayLevelE...  0.014410  0.855582   \n",
       "0   wavelet_LLL_gldm_SmallDependenceLowGrayLevelEm...  0.125811  0.110655   \n",
       "\n",
       "    FDR_corr  -log10(FDR)  \n",
       "0   0.065236     1.185512  \n",
       "0   0.022416     1.649436  \n",
       "0   0.020547     1.687259  \n",
       "0   0.035951     1.444286  \n",
       "0   0.022375     1.650229  \n",
       "..       ...          ...  \n",
       "0   0.981046     0.008311  \n",
       "0   0.249585     0.602782  \n",
       "0   0.024851     1.604655  \n",
       "0   0.891187     0.050031  \n",
       "0   0.207418     0.683154  \n",
       "\n",
       "[851 rows x 5 columns]"
      ]
     },
     "execution_count": 20,
     "metadata": {},
     "output_type": "execute_result"
    }
   ],
   "source": [
    "radiomics_stats_df_chum\n",
    "radiomics_stats_df_iucpq"
   ]
  },
  {
   "cell_type": "code",
   "execution_count": 21,
   "metadata": {},
   "outputs": [
    {
     "name": "stdout",
     "output_type": "stream",
     "text": [
      "CHUM\n",
      "0 features have a corrected p value smaller than 0.05\n",
      "Min corrected p value: \n",
      "0.562857811331544\n",
      "max corrected p value: \n",
      "0.9995019201263645\n",
      "Minimal corr:\n"
     ]
    },
    {
     "data": {
      "text/html": [
       "<div>\n",
       "<style scoped>\n",
       "    .dataframe tbody tr th:only-of-type {\n",
       "        vertical-align: middle;\n",
       "    }\n",
       "\n",
       "    .dataframe tbody tr th {\n",
       "        vertical-align: top;\n",
       "    }\n",
       "\n",
       "    .dataframe thead th {\n",
       "        text-align: right;\n",
       "    }\n",
       "</style>\n",
       "<table border=\"1\" class=\"dataframe\">\n",
       "  <thead>\n",
       "    <tr style=\"text-align: right;\">\n",
       "      <th></th>\n",
       "      <th>feat</th>\n",
       "      <th>corr</th>\n",
       "      <th>p_val</th>\n",
       "      <th>FDR_corr</th>\n",
       "      <th>-log10(FDR)</th>\n",
       "    </tr>\n",
       "  </thead>\n",
       "  <tbody>\n",
       "    <tr>\n",
       "      <th>0</th>\n",
       "      <td>wavelet_LLH_glcm_Idmn</td>\n",
       "      <td>-0.163734</td>\n",
       "      <td>0.01437</td>\n",
       "      <td>0.562858</td>\n",
       "      <td>0.249601</td>\n",
       "    </tr>\n",
       "  </tbody>\n",
       "</table>\n",
       "</div>"
      ],
      "text/plain": [
       "                    feat      corr    p_val  FDR_corr  -log10(FDR)\n",
       "0  wavelet_LLH_glcm_Idmn -0.163734  0.01437  0.562858     0.249601"
      ]
     },
     "metadata": {},
     "output_type": "display_data"
    },
    {
     "name": "stdout",
     "output_type": "stream",
     "text": [
      "Maximal corr:\n"
     ]
    },
    {
     "data": {
      "text/html": [
       "<div>\n",
       "<style scoped>\n",
       "    .dataframe tbody tr th:only-of-type {\n",
       "        vertical-align: middle;\n",
       "    }\n",
       "\n",
       "    .dataframe tbody tr th {\n",
       "        vertical-align: top;\n",
       "    }\n",
       "\n",
       "    .dataframe thead th {\n",
       "        text-align: right;\n",
       "    }\n",
       "</style>\n",
       "<table border=\"1\" class=\"dataframe\">\n",
       "  <thead>\n",
       "    <tr style=\"text-align: right;\">\n",
       "      <th></th>\n",
       "      <th>feat</th>\n",
       "      <th>corr</th>\n",
       "      <th>p_val</th>\n",
       "      <th>FDR_corr</th>\n",
       "      <th>-log10(FDR)</th>\n",
       "    </tr>\n",
       "  </thead>\n",
       "  <tbody>\n",
       "    <tr>\n",
       "      <th>0</th>\n",
       "      <td>wavelet_LLH_glcm_DifferenceAverage</td>\n",
       "      <td>0.194937</td>\n",
       "      <td>0.003469</td>\n",
       "      <td>0.562858</td>\n",
       "      <td>0.249601</td>\n",
       "    </tr>\n",
       "  </tbody>\n",
       "</table>\n",
       "</div>"
      ],
      "text/plain": [
       "                                 feat      corr     p_val  FDR_corr  \\\n",
       "0  wavelet_LLH_glcm_DifferenceAverage  0.194937  0.003469  0.562858   \n",
       "\n",
       "   -log10(FDR)  \n",
       "0     0.249601  "
      ]
     },
     "metadata": {},
     "output_type": "display_data"
    },
    {
     "name": "stdout",
     "output_type": "stream",
     "text": [
      "Number of positive correlated feats: \n",
      "307\n",
      "Number of negative correlated feats: \n",
      "544\n",
      "Number of 0 correlated feats: \n",
      "0\n",
      "Average\n",
      "-0.019\n",
      "IUCPQ\n",
      "220 features have a corrected p value smaller than 0.05\n",
      "Min corrected p value: \n",
      "0.005241143583371644\n",
      "max corrected p value: \n",
      "0.9811282176433626\n",
      "Minimal corr:\n"
     ]
    },
    {
     "data": {
      "text/html": [
       "<div>\n",
       "<style scoped>\n",
       "    .dataframe tbody tr th:only-of-type {\n",
       "        vertical-align: middle;\n",
       "    }\n",
       "\n",
       "    .dataframe tbody tr th {\n",
       "        vertical-align: top;\n",
       "    }\n",
       "\n",
       "    .dataframe thead th {\n",
       "        text-align: right;\n",
       "    }\n",
       "</style>\n",
       "<table border=\"1\" class=\"dataframe\">\n",
       "  <thead>\n",
       "    <tr style=\"text-align: right;\">\n",
       "      <th></th>\n",
       "      <th>feat</th>\n",
       "      <th>corr</th>\n",
       "      <th>p_val</th>\n",
       "      <th>FDR_corr</th>\n",
       "      <th>-log10(FDR)</th>\n",
       "    </tr>\n",
       "  </thead>\n",
       "  <tbody>\n",
       "    <tr>\n",
       "      <th>0</th>\n",
       "      <td>wavelet_HHL_glrlm_RunVariance</td>\n",
       "      <td>-0.318937</td>\n",
       "      <td>0.000035</td>\n",
       "      <td>0.005241</td>\n",
       "      <td>2.280574</td>\n",
       "    </tr>\n",
       "  </tbody>\n",
       "</table>\n",
       "</div>"
      ],
      "text/plain": [
       "                            feat      corr     p_val  FDR_corr  -log10(FDR)\n",
       "0  wavelet_HHL_glrlm_RunVariance -0.318937  0.000035  0.005241     2.280574"
      ]
     },
     "metadata": {},
     "output_type": "display_data"
    },
    {
     "name": "stdout",
     "output_type": "stream",
     "text": [
      "Maximal corr:\n"
     ]
    },
    {
     "data": {
      "text/html": [
       "<div>\n",
       "<style scoped>\n",
       "    .dataframe tbody tr th:only-of-type {\n",
       "        vertical-align: middle;\n",
       "    }\n",
       "\n",
       "    .dataframe tbody tr th {\n",
       "        vertical-align: top;\n",
       "    }\n",
       "\n",
       "    .dataframe thead th {\n",
       "        text-align: right;\n",
       "    }\n",
       "</style>\n",
       "<table border=\"1\" class=\"dataframe\">\n",
       "  <thead>\n",
       "    <tr style=\"text-align: right;\">\n",
       "      <th></th>\n",
       "      <th>feat</th>\n",
       "      <th>corr</th>\n",
       "      <th>p_val</th>\n",
       "      <th>FDR_corr</th>\n",
       "      <th>-log10(FDR)</th>\n",
       "    </tr>\n",
       "  </thead>\n",
       "  <tbody>\n",
       "    <tr>\n",
       "      <th>0</th>\n",
       "      <td>wavelet_HLL_glrlm_RunPercentage</td>\n",
       "      <td>0.308673</td>\n",
       "      <td>0.000064</td>\n",
       "      <td>0.005241</td>\n",
       "      <td>2.280574</td>\n",
       "    </tr>\n",
       "  </tbody>\n",
       "</table>\n",
       "</div>"
      ],
      "text/plain": [
       "                              feat      corr     p_val  FDR_corr  -log10(FDR)\n",
       "0  wavelet_HLL_glrlm_RunPercentage  0.308673  0.000064  0.005241     2.280574"
      ]
     },
     "metadata": {},
     "output_type": "display_data"
    },
    {
     "name": "stdout",
     "output_type": "stream",
     "text": [
      "Number of positive correlated feats: \n",
      "345\n",
      "Number of negative correlated feats: \n",
      "506\n",
      "Number of 0 correlated feats: \n",
      "0\n",
      "Average\n",
      "-0.031\n"
     ]
    }
   ],
   "source": [
    "def check_significant_feats(radiomics_stats_df):\n",
    "    print(\"{} features have a corrected p value smaller than 0.05\".format(len(radiomics_stats_df[radiomics_stats_df.FDR_corr < 0.05])))\n",
    "    print(\"Min corrected p value: \")\n",
    "    print(radiomics_stats_df[\"FDR_corr\"].min())\n",
    "    print(\"max corrected p value: \")\n",
    "    print(radiomics_stats_df[\"FDR_corr\"].max())\n",
    "\n",
    "    print(\"Minimal corr:\")\n",
    "    display(radiomics_stats_df[radiomics_stats_df[\"corr\"] == radiomics_stats_df[\"corr\"].min()])\n",
    "    print(\"Maximal corr:\")\n",
    "    display(radiomics_stats_df[radiomics_stats_df[\"corr\"] == radiomics_stats_df[\"corr\"].max()])\n",
    "    print(\"Number of positive correlated feats: \")\n",
    "    print(len(radiomics_stats_df[radiomics_stats_df[\"corr\"]>0]))\n",
    "    print(\"Number of negative correlated feats: \")\n",
    "    print(len(radiomics_stats_df[radiomics_stats_df[\"corr\"]<0]))\n",
    "    print(\"Number of 0 correlated feats: \")\n",
    "    print(len(radiomics_stats_df[radiomics_stats_df[\"corr\"] == 0]))\n",
    "    print(\"Average\")\n",
    "    print(radiomics_stats_df[\"corr\"].mean().round(3))\n",
    "\n",
    "print(\"CHUM\")\n",
    "check_significant_feats(radiomics_stats_df_chum)\n",
    "print(\"IUCPQ\")\n",
    "check_significant_feats(radiomics_stats_df_iucpq)"
   ]
  },
  {
   "cell_type": "code",
   "execution_count": 28,
   "metadata": {},
   "outputs": [
    {
     "name": "stderr",
     "output_type": "stream",
     "text": [
      "/var/folders/km/l90xp47s19v3fplyb1b0bc480000gp/T/ipykernel_60241/2265718269.py:2: SettingWithCopyWarning: \n",
      "A value is trying to be set on a copy of a slice from a DataFrame\n",
      "\n",
      "See the caveats in the documentation: https://pandas.pydata.org/pandas-docs/stable/user_guide/indexing.html#returning-a-view-versus-a-copy\n",
      "  radiomics_stats_df_iucpq[\"signi\"][radiomics_stats_df_iucpq[\"FDR_corr\"] <0.05] = \"red\"\n"
     ]
    }
   ],
   "source": [
    "radiomics_stats_df_iucpq[\"signi\"] = \"blue\"\n",
    "radiomics_stats_df_iucpq[\"signi\"][radiomics_stats_df_iucpq[\"FDR_corr\"] <0.05] = \"red\""
   ]
  },
  {
   "cell_type": "code",
   "execution_count": 29,
   "metadata": {},
   "outputs": [
    {
     "data": {
      "text/html": [
       "<div>\n",
       "<style scoped>\n",
       "    .dataframe tbody tr th:only-of-type {\n",
       "        vertical-align: middle;\n",
       "    }\n",
       "\n",
       "    .dataframe tbody tr th {\n",
       "        vertical-align: top;\n",
       "    }\n",
       "\n",
       "    .dataframe thead th {\n",
       "        text-align: right;\n",
       "    }\n",
       "</style>\n",
       "<table border=\"1\" class=\"dataframe\">\n",
       "  <thead>\n",
       "    <tr style=\"text-align: right;\">\n",
       "      <th></th>\n",
       "      <th>feat</th>\n",
       "      <th>corr</th>\n",
       "      <th>p_val</th>\n",
       "      <th>FDR_corr</th>\n",
       "      <th>-log10(FDR)</th>\n",
       "      <th>feat_nr</th>\n",
       "      <th>signi</th>\n",
       "    </tr>\n",
       "  </thead>\n",
       "  <tbody>\n",
       "    <tr>\n",
       "      <th>0</th>\n",
       "      <td>original_shape_Elongation</td>\n",
       "      <td>-0.181332</td>\n",
       "      <td>0.020928</td>\n",
       "      <td>0.065236</td>\n",
       "      <td>1.185512</td>\n",
       "      <td>0</td>\n",
       "      <td>blue</td>\n",
       "    </tr>\n",
       "    <tr>\n",
       "      <th>0</th>\n",
       "      <td>original_shape_Flatness</td>\n",
       "      <td>-0.228129</td>\n",
       "      <td>0.003503</td>\n",
       "      <td>0.022416</td>\n",
       "      <td>1.649436</td>\n",
       "      <td>1</td>\n",
       "      <td>red</td>\n",
       "    </tr>\n",
       "    <tr>\n",
       "      <th>0</th>\n",
       "      <td>original_shape_LeastAxisLength</td>\n",
       "      <td>-0.234673</td>\n",
       "      <td>0.002648</td>\n",
       "      <td>0.020547</td>\n",
       "      <td>1.687259</td>\n",
       "      <td>2</td>\n",
       "      <td>red</td>\n",
       "    </tr>\n",
       "    <tr>\n",
       "      <th>0</th>\n",
       "      <td>original_shape_MajorAxisLength</td>\n",
       "      <td>-0.206982</td>\n",
       "      <td>0.008224</td>\n",
       "      <td>0.035951</td>\n",
       "      <td>1.444286</td>\n",
       "      <td>3</td>\n",
       "      <td>red</td>\n",
       "    </tr>\n",
       "    <tr>\n",
       "      <th>0</th>\n",
       "      <td>original_shape_Maximum2DDiameterColumn</td>\n",
       "      <td>-0.229182</td>\n",
       "      <td>0.003351</td>\n",
       "      <td>0.022375</td>\n",
       "      <td>1.650229</td>\n",
       "      <td>4</td>\n",
       "      <td>red</td>\n",
       "    </tr>\n",
       "    <tr>\n",
       "      <th>...</th>\n",
       "      <td>...</td>\n",
       "      <td>...</td>\n",
       "      <td>...</td>\n",
       "      <td>...</td>\n",
       "      <td>...</td>\n",
       "      <td>...</td>\n",
       "      <td>...</td>\n",
       "    </tr>\n",
       "    <tr>\n",
       "      <th>0</th>\n",
       "      <td>wavelet_LLL_gldm_LargeDependenceLowGrayLevelEm...</td>\n",
       "      <td>0.001996</td>\n",
       "      <td>0.979893</td>\n",
       "      <td>0.981046</td>\n",
       "      <td>0.008311</td>\n",
       "      <td>846</td>\n",
       "      <td>blue</td>\n",
       "    </tr>\n",
       "    <tr>\n",
       "      <th>0</th>\n",
       "      <td>wavelet_LLL_gldm_LowGrayLevelEmphasis</td>\n",
       "      <td>0.113731</td>\n",
       "      <td>0.149575</td>\n",
       "      <td>0.249585</td>\n",
       "      <td>0.602782</td>\n",
       "      <td>847</td>\n",
       "      <td>blue</td>\n",
       "    </tr>\n",
       "    <tr>\n",
       "      <th>0</th>\n",
       "      <td>wavelet_LLL_gldm_SmallDependenceEmphasis</td>\n",
       "      <td>0.222073</td>\n",
       "      <td>0.004509</td>\n",
       "      <td>0.024851</td>\n",
       "      <td>1.604655</td>\n",
       "      <td>848</td>\n",
       "      <td>red</td>\n",
       "    </tr>\n",
       "    <tr>\n",
       "      <th>0</th>\n",
       "      <td>wavelet_LLL_gldm_SmallDependenceHighGrayLevelE...</td>\n",
       "      <td>0.014410</td>\n",
       "      <td>0.855582</td>\n",
       "      <td>0.891187</td>\n",
       "      <td>0.050031</td>\n",
       "      <td>849</td>\n",
       "      <td>blue</td>\n",
       "    </tr>\n",
       "    <tr>\n",
       "      <th>0</th>\n",
       "      <td>wavelet_LLL_gldm_SmallDependenceLowGrayLevelEm...</td>\n",
       "      <td>0.125811</td>\n",
       "      <td>0.110655</td>\n",
       "      <td>0.207418</td>\n",
       "      <td>0.683154</td>\n",
       "      <td>850</td>\n",
       "      <td>blue</td>\n",
       "    </tr>\n",
       "  </tbody>\n",
       "</table>\n",
       "<p>851 rows × 7 columns</p>\n",
       "</div>"
      ],
      "text/plain": [
       "                                                 feat      corr     p_val  \\\n",
       "0                           original_shape_Elongation -0.181332  0.020928   \n",
       "0                             original_shape_Flatness -0.228129  0.003503   \n",
       "0                      original_shape_LeastAxisLength -0.234673  0.002648   \n",
       "0                      original_shape_MajorAxisLength -0.206982  0.008224   \n",
       "0              original_shape_Maximum2DDiameterColumn -0.229182  0.003351   \n",
       "..                                                ...       ...       ...   \n",
       "0   wavelet_LLL_gldm_LargeDependenceLowGrayLevelEm...  0.001996  0.979893   \n",
       "0               wavelet_LLL_gldm_LowGrayLevelEmphasis  0.113731  0.149575   \n",
       "0            wavelet_LLL_gldm_SmallDependenceEmphasis  0.222073  0.004509   \n",
       "0   wavelet_LLL_gldm_SmallDependenceHighGrayLevelE...  0.014410  0.855582   \n",
       "0   wavelet_LLL_gldm_SmallDependenceLowGrayLevelEm...  0.125811  0.110655   \n",
       "\n",
       "    FDR_corr  -log10(FDR)  feat_nr signi  \n",
       "0   0.065236     1.185512        0  blue  \n",
       "0   0.022416     1.649436        1   red  \n",
       "0   0.020547     1.687259        2   red  \n",
       "0   0.035951     1.444286        3   red  \n",
       "0   0.022375     1.650229        4   red  \n",
       "..       ...          ...      ...   ...  \n",
       "0   0.981046     0.008311      846  blue  \n",
       "0   0.249585     0.602782      847  blue  \n",
       "0   0.024851     1.604655      848   red  \n",
       "0   0.891187     0.050031      849  blue  \n",
       "0   0.207418     0.683154      850  blue  \n",
       "\n",
       "[851 rows x 7 columns]"
      ]
     },
     "execution_count": 29,
     "metadata": {},
     "output_type": "execute_result"
    }
   ],
   "source": [
    "radiomics_stats_df_iucpq"
   ]
  },
  {
   "cell_type": "code",
   "execution_count": 22,
   "metadata": {},
   "outputs": [
    {
     "name": "stdout",
     "output_type": "stream",
     "text": [
      "Original Shape Features:  14\n",
      "Original Firstorder Features:  162\n",
      "Original Texture Features:  675\n",
      "Wavelet Features:  0\n"
     ]
    }
   ],
   "source": [
    "textures = [\"glcm\", \"glszm\", \"glrlm\", \"ngtdm\", \"gldm\"]\n",
    "shape = []\n",
    "firstorder = []\n",
    "texture = []\n",
    "wavelet = []\n",
    "\n",
    "for feature in radiomics_features:\n",
    "    if \"shape\" in feature:\n",
    "        shape.append(feature)\n",
    "    elif \"firstorder\" in feature:\n",
    "        firstorder.append(feature)\n",
    "    for text in textures:\n",
    "        if text in feature:\n",
    "            texture.append(feature)\n",
    "#    else:\n",
    "#        wavelet.append(feature)\n",
    "print(\"Original Shape Features: \", len(shape))\n",
    "print(\"Original Firstorder Features: \", len(firstorder))\n",
    "print(\"Original Texture Features: \", len(texture))\n",
    "print(\"Wavelet Features: \", len(wavelet))"
   ]
  },
  {
   "cell_type": "code",
   "execution_count": 24,
   "metadata": {},
   "outputs": [],
   "source": [
    "def prep_for_group_plot(radiomics_stats_df): \n",
    "    radiomics_stats_df[\"group\"] = \"none\"\n",
    "    radiomics_stats_df[\"group\"][radiomics_stats_df.feat.isin(shape)] = \"Shape\"\n",
    "    radiomics_stats_df[\"group\"][radiomics_stats_df.feat.isin(firstorder)] = \"Firstorder\"\n",
    "    radiomics_stats_df[\"group\"][radiomics_stats_df.feat.isin(texture)] = \"Texture\"\n",
    "\n",
    "    colors = {'Shape':'red', 'Firstorder':'green', 'Texture':'blue'}\n",
    "    radiomics_stats_df[\"color\"] = radiomics_stats_df.group.map(colors)\n",
    "    return radiomics_stats_df\n"
   ]
  },
  {
   "attachments": {},
   "cell_type": "markdown",
   "metadata": {},
   "source": [
    "#### CHUM"
   ]
  },
  {
   "cell_type": "code",
   "execution_count": 27,
   "metadata": {},
   "outputs": [
    {
     "data": {
      "image/png": "[encoded data removed]",
      "text/plain": [
       "<Figure size 640x480 with 1 Axes>"
      ]
     },
     "metadata": {},
     "output_type": "display_data"
    }
   ],
   "source": [
    "#radiomics_stats_df.plot.scatter(x=\"feat\", y= \"corr\", c=\"color\", label=\"group\")\n",
    "radiomics_sorted_chum = radiomics_stats_df_chum.sort_values(by=\"corr\")\n",
    "radiomics_sorted_chum[\"feat_nr\"] = range(len(radiomics_sorted_chum))\n",
    "radiomics_stats_df_chum[\"feat_nr\"] = range(len(radiomics_stats_df_chum))\n",
    "fig, ax = plt.subplots()\n",
    "\n",
    "x = radiomics_sorted_chum[\"feat_nr\"]\n",
    "y = radiomics_sorted_chum[\"corr\"]\n",
    "\n",
    "ax.scatter(x, y,  s=50, linewidth=0.1,  alpha=.2, c=\"blue\")\n",
    "ax.set_ylabel(\"Pearson Correlation\", fontsize=13)\n",
    "ax.set_xlabel(\"Features\", fontsize=13)\n",
    "plt.savefig(\"../../Plots/radiomics_CHUM_corr_os.png\", dpi=120)\n",
    "#plt.legend()"
   ]
  },
  {
   "attachments": {},
   "cell_type": "markdown",
   "metadata": {},
   "source": [
    "#### IUCPQ"
   ]
  },
  {
   "cell_type": "code",
   "execution_count": 26,
   "metadata": {},
   "outputs": [
    {
     "data": {
      "image/png": "[encoded data removed]",
      "text/plain": [
       "<Figure size 640x480 with 1 Axes>"
      ]
     },
     "metadata": {},
     "output_type": "display_data"
    }
   ],
   "source": [
    "#radiomics_stats_df.plot.scatter(x=\"feat\", y= \"corr\", c=\"color\", label=\"group\")\n",
    "radiomics_sorted_iucpq = radiomics_stats_df_iucpq.sort_values(by=\"corr\")\n",
    "radiomics_sorted_iucpq[\"feat_nr\"] = range(len(radiomics_sorted_iucpq))\n",
    "radiomics_stats_df_iucpq[\"feat_nr\"] = range(len(radiomics_stats_df_iucpq))\n",
    "fig, ax = plt.subplots()\n",
    "\n",
    "x = radiomics_sorted_iucpq[\"feat_nr\"]\n",
    "y = radiomics_sorted_iucpq[\"corr\"]\n",
    "\n",
    "ax.scatter(x, y,  s=50, linewidth=0.1,  alpha=.2, c=\"blue\")\n",
    "ax.set_ylabel(\"Pearson Correlation\", fontsize=13)\n",
    "ax.set_xlabel(\"Features\", fontsize=13)\n",
    "plt.savefig(\"../../Plots/radiomics_IUCPQ_corr_os.png\", dpi=120)\n",
    "#plt.legend()"
   ]
  },
  {
   "cell_type": "code",
   "execution_count": 32,
   "metadata": {},
   "outputs": [
    {
     "data": {
      "text/plain": [
       "<matplotlib.legend.Legend at 0x12e585fd0>"
      ]
     },
     "execution_count": 32,
     "metadata": {},
     "output_type": "execute_result"
    },
    {
     "data": {
      "image/png": "[encoded data removed]",
      "text/plain": [
       "<Figure size 640x480 with 1 Axes>"
      ]
     },
     "metadata": {},
     "output_type": "display_data"
    }
   ],
   "source": [
    "### IUCPQ with p value colored\n",
    "radiomics_sorted_iucpq = radiomics_stats_df_iucpq.sort_values(by=\"corr\")\n",
    "radiomics_sorted_iucpq[\"feat_nr\"] = range(len(radiomics_sorted_iucpq))\n",
    "radiomics_stats_df_iucpq[\"feat_nr\"] = range(len(radiomics_stats_df_iucpq))\n",
    "fig, ax = plt.subplots()\n",
    "for group in radiomics_sorted_iucpq.signi.unique():\n",
    "    radiomics_stats_temp = radiomics_sorted_iucpq[radiomics_sorted_iucpq[\"signi\"] == group]\n",
    "    x = radiomics_stats_temp[\"feat_nr\"]\n",
    "    y = radiomics_stats_temp[\"corr\"]\n",
    "    if group == \"red\": l = \"p < 0.05\"\n",
    "    elif group == \"blue\": l = \"p >= 0.05\"\n",
    "    c = radiomics_stats_temp[\"signi\"].iloc[0]\n",
    "\n",
    "    ax.scatter(x, y, label=l, s=50, linewidth=0.1, c=c, alpha=.2)\n",
    "    ax.set_ylabel(\"Corr\")\n",
    "    ax.set_xlabel(\"Features\")\n",
    "plt.legend()"
   ]
  },
  {
   "attachments": {},
   "cell_type": "markdown",
   "metadata": {},
   "source": [
    "#### Both cohorts"
   ]
  },
  {
   "cell_type": "code",
   "execution_count": 40,
   "metadata": {},
   "outputs": [
    {
     "data": {
      "text/plain": [
       "<matplotlib.legend.Legend at 0x12fd8e520>"
      ]
     },
     "execution_count": 40,
     "metadata": {},
     "output_type": "execute_result"
    },
    {
     "data": {
      "image/png": "[encoded data removed]",
      "text/plain": [
       "<Figure size 640x480 with 1 Axes>"
      ]
     },
     "metadata": {},
     "output_type": "display_data"
    }
   ],
   "source": [
    "radiomics_sorted_chum = radiomics_stats_df_chum.sort_values(by=\"corr\")\n",
    "#radiomics_sorted_iucpq = radiomics_stats_df_iucpq.sort_values(by=\"corr\")\n",
    "radiomics_sorted_chum[\"feat_nr\"] = range(len(radiomics_stats_df_chum))\n",
    "\n",
    "fig, ax = plt.subplots()\n",
    "\n",
    "x = radiomics_sorted_chum[\"feat\"]\n",
    "y = radiomics_sorted_chum[\"corr\"]\n",
    "ax.scatter(x, y,  s=50, linewidth=0.1,  alpha=.2, c=\"green\",  label=\"Disc\")\n",
    "for group in radiomics_sorted_iucpq.signi.unique():\n",
    "    radiomics_stats_temp = radiomics_sorted_iucpq[radiomics_sorted_iucpq[\"signi\"] == group]\n",
    "    x_iucpq = radiomics_stats_temp[\"feat\"]\n",
    "    y_iucpq = radiomics_stats_temp[\"corr\"]\n",
    "    if group == \"red\": l = \"Vali - p < 0.05\"\n",
    "    elif group == \"blue\": l = \"Vali - p >= 0.05\"\n",
    "    c = radiomics_stats_temp[\"signi\"].iloc[0]\n",
    "\n",
    "    ax.scatter(x_iucpq, y_iucpq, label=l, s=50, linewidth=0.1, c=c, alpha=.2)\n",
    "\n",
    "#x_iucpq = radiomics_stats_df_iucpq[\"feat\"]\n",
    "#y_iucpq = radiomics_stats_df_iucpq[\"corr\"]\n",
    "#ax.scatter(x_iucpq, y_iucpq,  s=50, linewidth=0.1,  alpha=.2, c=\"red\")\n",
    "\n",
    "\n",
    "ax.set_ylabel(\"Pearson Correlation\", fontsize=13)\n",
    "ax.set_xlabel(\"Features\", fontsize=13)\n",
    "plt.xticks([])\n",
    "plt.legend()"
   ]
  },
  {
   "attachments": {},
   "cell_type": "markdown",
   "metadata": {},
   "source": [
    "#### Colored-grouped plot"
   ]
  },
  {
   "cell_type": "code",
   "execution_count": 15,
   "metadata": {},
   "outputs": [
    {
     "data": {
      "text/plain": [
       "<matplotlib.legend.Legend at 0x122713eb0>"
      ]
     },
     "execution_count": 15,
     "metadata": {},
     "output_type": "execute_result"
    },
    {
     "data": {
      "image/png": "[encoded data removed]",
      "text/plain": [
       "<Figure size 640x480 with 1 Axes>"
      ]
     },
     "metadata": {},
     "output_type": "display_data"
    }
   ],
   "source": [
    "### COLoRe FOR GROUPS\n",
    "#radiomics_stats_df.plot.scatter(x=\"feat\", y= \"corr\", c=\"color\", label=\"group\")\n",
    "radiomics_sorted = radiomics_stats_df.sort_values(by=\"corr\")\n",
    "radiomics_sorted[\"feat_nr\"] = range(len(radiomics_sorted))\n",
    "radiomics_stats_df[\"feat_nr\"] = range(len(radiomics_stats_df))\n",
    "fig, ax = plt.subplots()\n",
    "for group in radiomics_sorted.group.unique():\n",
    "    radiomics_stats_temp = radiomics_sorted[radiomics_sorted[\"group\"] == group]\n",
    "    x = radiomics_stats_temp[\"feat_nr\"]\n",
    "    y = radiomics_stats_temp[\"corr\"]\n",
    "    l = group\n",
    "    c = radiomics_stats_temp[\"color\"].iloc[0]\n",
    "\n",
    "    ax.scatter(x, y, label=l, s=50, linewidth=0.1, c=c, alpha=.2)\n",
    "    ax.set_ylabel(\"Corr\")\n",
    "    ax.set_xlabel(\"Features\")\n",
    "plt.legend()"
   ]
  },
  {
   "attachments": {},
   "cell_type": "markdown",
   "metadata": {},
   "source": [
    "### Spearman"
   ]
  },
  {
   "cell_type": "code",
   "execution_count": null,
   "metadata": {},
   "outputs": [],
   "source": [
    "from statsmodels.stats.multitest import fdrcorrection\n",
    "from scipy.stats import spearmanr\n",
    "\n",
    "radiomics_features = get_radiomics_feats(data_norm_chum, clinical_features)\n",
    "\n",
    "col_names = [\"feat\", \"corr\", \"p_val\"]\n",
    "radiomics_stats_df = pd.DataFrame(columns=col_names)\n",
    "for feat in radiomics_features:\n",
    "    corr, p = spearmanr(data_norm_chum[feat], data_norm_chum[\"os_days\"])\n",
    "    temp_list = [feat, corr, p]\n",
    "    new_row = pd.DataFrame(dict(zip(col_names, temp_list)), index= [0])\n",
    "    radiomics_stats_df = pd.concat([radiomics_stats_df, new_row])\n",
    "\n",
    "p_val_arr = np.array(radiomics_stats_df[\"p_val\"])\n",
    "#print(p_val_arr)\n",
    "reject, p_val_corrected = fdrcorrection(pvals=p_val_arr)\n",
    "#print(p_val_corrected)\n",
    "radiomics_stats_df[\"FDR_corr\"] = p_val_corrected\n",
    "radiomics_stats_df[\"-log10(FDR)\"] = -np.log10(p_val_corrected)\n",
    "radiomics_stats_df\n",
    "\n",
    "print(\"{} features have a corrected p value smaller than 0.05\".format(len(radiomics_stats_df[radiomics_stats_df.FDR_corr < 0.05])))\n",
    "print(radiomics_stats_df[\"FDR_corr\"].min())\n",
    "print(radiomics_stats_df[\"FDR_corr\"].max())"
   ]
  },
  {
   "cell_type": "code",
   "execution_count": null,
   "metadata": {},
   "outputs": [],
   "source": [
    "radiomics_stats_df[\"group\"] = \"none\"\n",
    "radiomics_stats_df[\"group\"][radiomics_stats_df.feat.isin(shape)] = \"Shape\"\n",
    "radiomics_stats_df[\"group\"][radiomics_stats_df.feat.isin(firstorder)] = \"Firstorder\"\n",
    "radiomics_stats_df[\"group\"][radiomics_stats_df.feat.isin(texture)] = \"Texture\"\n",
    "\n",
    "colors = {'Shape':'red', 'Firstorder':'green', 'Texture':'blue'}\n",
    "radiomics_stats_df[\"color\"] = radiomics_stats_df.group.map(colors)"
   ]
  },
  {
   "cell_type": "code",
   "execution_count": null,
   "metadata": {},
   "outputs": [],
   "source": [
    "#radiomics_stats_df.plot.scatter(x=\"feat\", y= \"corr\", c=\"color\", label=\"group\")\n",
    "radiomics_sorted = radiomics_stats_df.sort_values(by=\"corr\")\n",
    "radiomics_sorted[\"feat_nr\"] = range(len(radiomics_sorted))\n",
    "radiomics_stats_df[\"feat_nr\"] = range(len(radiomics_stats_df))\n",
    "fig, ax = plt.subplots()\n",
    "for group in radiomics_stats_df.group.unique():\n",
    "    radiomics_stats_temp = radiomics_stats_df[radiomics_stats_df[\"group\"] == group]\n",
    "    x = radiomics_stats_temp[\"feat_nr\"]\n",
    "    y = radiomics_stats_temp[\"corr\"]\n",
    "    l = group\n",
    "    c = radiomics_stats_temp[\"color\"].iloc[0]\n",
    "\n",
    "    ax.scatter(x, y, label=l, s=50, linewidth=0.1, c=c, alpha=.2)\n",
    "    ax.set_ylabel(\"Corr\")\n",
    "    ax.set_xlabel(\"Features\")\n",
    "plt.legend()"
   ]
  },
  {
   "attachments": {},
   "cell_type": "markdown",
   "metadata": {},
   "source": [
    "## Multivariate analysis Clinical"
   ]
  },
  {
   "cell_type": "code",
   "execution_count": null,
   "metadata": {},
   "outputs": [],
   "source": [
    "def get_p_values_multi(df, features):\n",
    "    \n",
    "    X = sm.add_constant(df[features])\n",
    "    y = df.os_days\n",
    "    mod = sm.OLS(y, X)\n",
    "    p_temp = mod.fit().pvalues\n",
    "    p_values_multi = pd.DataFrame(p_temp.round(5))\n",
    "    p_val_arr = np.array(p_values_multi[0])\n",
    "    reject, p_val_corrected = fdrcorrection(pvals=p_val_arr)\n",
    "    p_values_multi[\"FDR_corr\"] = p_val_corrected\n",
    "    p_values_multi[\"-log10(FDR)\"] = -np.log10(p_val_corrected)\n",
    "\n",
    "    return p_values_multi\n",
    "\n",
    "list_clin_feats = [\"age\", \"smoking_habit\", \"ecog_status\",\"sex\"]#\"age\",, \"first_line_io\", \"histology_group\"\n",
    "\n",
    "p_multi_clinical_df = get_p_values_multi(data_norm_chum, list_clin_feats)\n",
    "#p_multi_radiomics_df = get_p_values_multi(data_norm_chum, radiomics_features)\n",
    "\n",
    "p_multi_clinical_df.round(5)"
   ]
  },
  {
   "cell_type": "code",
   "execution_count": null,
   "metadata": {},
   "outputs": [],
   "source": [
    "p_multi_clinical_df"
   ]
  },
  {
   "attachments": {},
   "cell_type": "markdown",
   "metadata": {},
   "source": [
    "# T-Test for OS of both cohorts"
   ]
  },
  {
   "cell_type": "code",
   "execution_count": 58,
   "metadata": {},
   "outputs": [],
   "source": [
    "os_chum_or = pd.read_csv(\"../../Data/Discovery-ClinicalData.csv\")\n",
    "os_iucpq_or = pd.read_csv(\"../../Data/ValidationClinicalData.csv\")\n",
    "\n",
    "os_chum_or = os_chum_or[\"os_days\"]\n",
    "os_iucpq_or = os_iucpq_or[\"os_days\"]"
   ]
  },
  {
   "cell_type": "code",
   "execution_count": 41,
   "metadata": {},
   "outputs": [],
   "source": [
    "os_chum = data_norm_chum.os_days\n",
    "os_iucpq = data_norm_iucpq.os_days"
   ]
  },
  {
   "cell_type": "code",
   "execution_count": 59,
   "metadata": {},
   "outputs": [
    {
     "data": {
      "text/plain": [
       "<AxesSubplot: >"
      ]
     },
     "execution_count": 59,
     "metadata": {},
     "output_type": "execute_result"
    },
    {
     "data": {
      "image/png": "[encoded data removed]",
      "text/plain": [
       "<Figure size 640x480 with 1 Axes>"
      ]
     },
     "metadata": {},
     "output_type": "display_data"
    }
   ],
   "source": [
    "os_chum_or.sort_values().reset_index(drop=True).hist()"
   ]
  },
  {
   "cell_type": "code",
   "execution_count": 53,
   "metadata": {},
   "outputs": [
    {
     "data": {
      "text/plain": [
       "<AxesSubplot: >"
      ]
     },
     "execution_count": 53,
     "metadata": {},
     "output_type": "execute_result"
    },
    {
     "data": {
      "image/png": "[encoded data removed]",
      "text/plain": [
       "<Figure size 640x480 with 1 Axes>"
      ]
     },
     "metadata": {},
     "output_type": "display_data"
    }
   ],
   "source": [
    "os_chum.sort_values().reset_index(drop=True).hist()"
   ]
  },
  {
   "cell_type": "code",
   "execution_count": 60,
   "metadata": {},
   "outputs": [
    {
     "data": {
      "text/plain": [
       "<AxesSubplot: >"
      ]
     },
     "execution_count": 60,
     "metadata": {},
     "output_type": "execute_result"
    },
    {
     "data": {
      "image/png": "[encoded data removed]",
      "text/plain": [
       "<Figure size 640x480 with 1 Axes>"
      ]
     },
     "metadata": {},
     "output_type": "display_data"
    }
   ],
   "source": [
    "os_iucpq_or.sort_values().reset_index(drop=True).hist()"
   ]
  },
  {
   "cell_type": "code",
   "execution_count": 54,
   "metadata": {},
   "outputs": [
    {
     "data": {
      "text/plain": [
       "<AxesSubplot: >"
      ]
     },
     "execution_count": 54,
     "metadata": {},
     "output_type": "execute_result"
    },
    {
     "data": {
      "image/png": "[encoded data removed]",
      "text/plain": [
       "<Figure size 640x480 with 1 Axes>"
      ]
     },
     "metadata": {},
     "output_type": "display_data"
    }
   ],
   "source": [
    "os_iucpq.sort_values().reset_index(drop=True).hist()"
   ]
  },
  {
   "cell_type": "code",
   "execution_count": 61,
   "metadata": {},
   "outputs": [
    {
     "name": "stdout",
     "output_type": "stream",
     "text": [
      "Var CHUM:  1.0045045045045047\n",
      "Var IUCPQ:  1.0062111801242233\n",
      "Var CHUM:  189524.03570377844\n",
      "Var IUCPQ:  195038.2435911914\n"
     ]
    }
   ],
   "source": [
    "print(\"Var CHUM: \",os_chum.var())\n",
    "print(\"Var IUCPQ: \",os_iucpq.var())\n",
    "print(\"Var CHUM: \",os_chum_or.var())\n",
    "print(\"Var IUCPQ: \",os_iucpq_or.var())"
   ]
  },
  {
   "cell_type": "code",
   "execution_count": 64,
   "metadata": {},
   "outputs": [
    {
     "name": "stdout",
     "output_type": "stream",
     "text": [
      "normalized \n",
      "Ttest_indResult(statistic=-9.195007902049543e-16, pvalue=0.9999999999999993)\n",
      "Ttest_indResult(statistic=-9.193768178480122e-16, pvalue=0.9999999999999993)\n",
      "original\n",
      "Ttest_indResult(statistic=-3.4679219502827556, pvalue=0.0005664849713872464)\n",
      "Ttest_indResult(statistic=-3.460733340934834, pvalue=0.0005856160241060744)\n"
     ]
    }
   ],
   "source": [
    "from scipy import stats as st\n",
    "a = os_chum.to_numpy()\n",
    "a_or = os_chum_or.to_numpy()\n",
    "b = os_iucpq.to_numpy()\n",
    "b_or = os_iucpq_or.to_numpy()\n",
    "\n",
    "print(\"normalized \")\n",
    "print(st.ttest_ind(a=a, b=b, equal_var=True))\n",
    "print(st.ttest_ind(a=a, b=b, equal_var=False))\n",
    "print(\"original\")\n",
    "print(st.ttest_ind(a=a_or, b=b_or, equal_var=True))\n",
    "print(st.ttest_ind(a=a_or, b=b_or, equal_var=False))"
   ]
  },
  {
   "cell_type": "code",
   "execution_count": 67,
   "metadata": {},
   "outputs": [
    {
     "name": "stdout",
     "output_type": "stream",
     "text": [
      "28750.5 0.00010978411037047848\n",
      "42628.5 0.00010978411037047848\n"
     ]
    }
   ],
   "source": [
    "from scipy.stats import mannwhitneyu\n",
    "res = mannwhitneyu(a_or, b_or)\n",
    "res2 = mannwhitneyu(b_or, a_or)\n",
    "print(res.statistic, res.pvalue)\n",
    "print(res2.statistic, res2.pvalue)\n"
   ]
  },
  {
   "attachments": {},
   "cell_type": "markdown",
   "metadata": {},
   "source": [
    "# Older Analysis"
   ]
  },
  {
   "cell_type": "code",
   "execution_count": null,
   "metadata": {},
   "outputs": [],
   "source": [
    "data_norm_iucpq.corr(\"pearson\")[\"os_days\"][:-7].sort_values()#.reset_index(drop=True)"
   ]
  },
  {
   "cell_type": "code",
   "execution_count": null,
   "metadata": {},
   "outputs": [],
   "source": [
    "corrs_iucpq = data_norm_iucpq.corr(\"pearson\")[\"os_days\"][:-7].reset_index(drop=True)\n",
    "corrs_chum = data_norm_chum.corr(\"pearson\")[\"os_days\"][:-7].reset_index(drop=True)\n"
   ]
  },
  {
   "cell_type": "code",
   "execution_count": null,
   "metadata": {},
   "outputs": [],
   "source": [
    "\n",
    "corr_iucpq_df = pd.DataFrame(corrs_iucpq.sort_values().reset_index(drop=True)).reset_index()\n",
    "corr_chum_df = pd.DataFrame(corrs_chum.sort_values().reset_index(drop=True)).reset_index()\n",
    "ax=corr_iucpq_df.plot.scatter(x=\"index\", y=\"os_days\", label=\"IUCPQ\", xlabel=\"Features\", ylabel=\"Pearson Correlation\", title=\"Correlation to os days\",edgecolors='darkblue', alpha=0.08, color=\"blue\")\n",
    "ax2=corr_chum_df.plot.scatter(x=\"index\", y=\"os_days\", label=\"CHUM\", xlabel=\"Features\", ylabel=\"Pearson Correlation\", title=\"Correlation to os days\",edgecolors='darkblue', alpha=0.08, color=\"red\", ax=ax)\n",
    "plt.show()"
   ]
  },
  {
   "cell_type": "code",
   "execution_count": null,
   "metadata": {},
   "outputs": [],
   "source": [
    "df_both = pd.DataFrame( columns=[\"IUCPQ\", \"CHUM\"])"
   ]
  },
  {
   "cell_type": "code",
   "execution_count": null,
   "metadata": {},
   "outputs": [],
   "source": [
    "df_both[\"IUCPQ\"] = corrs_iucpq\n",
    "df_both[\"CHUM\"] = corrs_chum\n"
   ]
  },
  {
   "cell_type": "code",
   "execution_count": null,
   "metadata": {},
   "outputs": [],
   "source": [
    "sort_IUCPQ = df_both.sort_values(by=\"IUCPQ\")#\n",
    "sort_IUCPQ[\"Features\"] = range(len(sort_IUCPQ))\n",
    "ax = sort_IUCPQ.plot(kind=\"scatter\", y=\"IUCPQ\", x=\"Features\", label=\"IUCPQ\", xlabel=\"Features\", ylabel=\"Pearson Correlation\", title=\"Correlation to os days\",edgecolors='darkblue', alpha=0.08, color=\"blue\")\n",
    "sort_IUCPQ.plot(kind=\"scatter\", y=\"CHUM\", x=\"Features\", label=\"CHUM\", xlabel=\"Features\", ylabel=\"Pearson Correlation\", title=\"Correlation to os days\",edgecolors='darkblue', alpha=0.08, color=\"red\", ax =ax)"
   ]
  },
  {
   "cell_type": "code",
   "execution_count": null,
   "metadata": {},
   "outputs": [],
   "source": [
    "sort_CHUM = df_both.sort_values(by=\"CHUM\")#\n",
    "sort_CHUM[\"Features\"] = range(len(sort_CHUM))\n",
    "ax = sort_CHUM.plot(kind=\"scatter\", y=\"IUCPQ\", x=\"Features\", label=\"IUCPQ\", xlabel=\"Features\", ylabel=\"Pearson Correlation\", title=\"Correlation to os days\",edgecolors='darkblue', alpha=0.08, color=\"blue\")\n",
    "sort_CHUM.plot(kind=\"scatter\", y=\"CHUM\", x=\"Features\", label=\"CHUM\", xlabel=\"Features\", ylabel=\"Pearson Correlation\", title=\"Correlation to os days\",edgecolors='darkblue', alpha=0.08, color=\"red\", ax =ax)"
   ]
  },
  {
   "cell_type": "code",
   "execution_count": null,
   "metadata": {},
   "outputs": [],
   "source": [
    "corr_df"
   ]
  },
  {
   "cell_type": "code",
   "execution_count": null,
   "metadata": {},
   "outputs": [],
   "source": [
    "import seaborn as sns"
   ]
  },
  {
   "cell_type": "code",
   "execution_count": null,
   "metadata": {},
   "outputs": [],
   "source": [
    "sns.scatterplot(corr_df, alpha=0.03)\n"
   ]
  },
  {
   "cell_type": "code",
   "execution_count": null,
   "metadata": {},
   "outputs": [],
   "source": [
    "corr_df = pd.DataFrame(corrs.sort_values().reset_index(drop=True))\n",
    "corr_df"
   ]
  },
  {
   "cell_type": "code",
   "execution_count": null,
   "metadata": {},
   "outputs": [],
   "source": [
    "corrs.sort_values().reset_index(drop=True).plot( xlabel=\"Features\", ylabel=\"Pearson Correlation\", title=\"Correlation to os days\", marker='.', linestyle='none')\n"
   ]
  },
  {
   "cell_type": "code",
   "execution_count": null,
   "metadata": {},
   "outputs": [],
   "source": [
    "corrs.sort_values().reset_index(drop=True).hist()"
   ]
  },
  {
   "attachments": {},
   "cell_type": "markdown",
   "metadata": {},
   "source": [
    "# Univariate Analysis of clinical Features"
   ]
  },
  {
   "cell_type": "code",
   "execution_count": null,
   "metadata": {},
   "outputs": [],
   "source": [
    "clinical_chum = pd.read_csv(\"../../Data/clinical_CHUM.csv\")\n",
    "clinical_iucpq = pd.read_csv(\"../../Data/clinical_IUCPQ.csv\")\n",
    "clinical_chum.drop(columns=\"Unnamed: 0\", inplace=True)\n",
    "clinical_iucpq.drop(columns=\"Unnamed: 0\", inplace=True)"
   ]
  },
  {
   "cell_type": "code",
   "execution_count": null,
   "metadata": {},
   "outputs": [],
   "source": [
    "clinical_iucpq.corr(\"pearson\")[\"os_days\"].loc[\"age\"]"
   ]
  },
  {
   "cell_type": "code",
   "execution_count": null,
   "metadata": {},
   "outputs": [],
   "source": [
    "from sklearn.model_selection import train_test_split\n",
    "from sklearn.linear_model import LinearRegression\n",
    "from lifelines.utils import concordance_index"
   ]
  },
  {
   "cell_type": "code",
   "execution_count": null,
   "metadata": {},
   "outputs": [],
   "source": [
    "\n",
    "def get_pred_c(df, feat=None):\n",
    "    SEED=42\n",
    "    if feat != None: # univariate\n",
    "        X = df[[feat]]\n",
    "        X_chum = data_norm_chum[[feat]]\n",
    "    else: # multivariate\n",
    "        X = df[[\"age\", \"smoking_habit\", \"ecog_status\",\"sex\", \"first_line_io\", \"histology_group\"]]\n",
    "        X_chum = data_norm_chum[[\"age\", \"smoking_habit\", \"ecog_status\",\"sex\", \"first_line_io\", \"histology_group\"]]\n",
    "    y = df[\"os_days\"]\n",
    "    y_chum = data_norm_chum[\"os_days\"]\n",
    "    X_train, X_test, y_train, y_test = train_test_split(X, y, test_size = 0.2, random_state = SEED)\n",
    "    regressor = LinearRegression()\n",
    "    regressor.fit(X_train, y_train)\n",
    "    y_pred = regressor.predict(X_test)\n",
    "    y_pred_CHUM = regressor.predict(X_chum)\n",
    "    df_preds = pd.DataFrame({'Actual': y_test.squeeze(), 'Predicted': y_pred.squeeze()})\n",
    "    df_preds_chum = pd.DataFrame({\"chum_act\": y_chum.squeeze(), \"chum_pred\": y_pred_CHUM.squeeze()})\n",
    "    c_idx = concordance_index(df_preds.Actual, df_preds.Predicted)\n",
    "    c_idx_chum = concordance_index(df_preds_chum.chum_act, df_preds_chum.chum_pred)\n",
    "    print(\"Feature: {}, c-idx: {}, c-idx chum: {}\".format(feat, c_idx, c_idx_chum))\n",
    "    return df_preds\n",
    "\n",
    "iucpq_pred_df = get_pred_c(data_norm_iucpq)\n",
    "\n",
    "\n"
   ]
  },
  {
   "cell_type": "code",
   "execution_count": null,
   "metadata": {},
   "outputs": [],
   "source": [
    "featre_list = [\"age\", \"smoking_habit\", \"ecog_status\",\"sex\", \"first_line_io\", \"histology_group\"]\n",
    "for feat in featre_list:    \n",
    "    iucpq_pred_df = get_pred_c(data_norm_iucpq, feat)"
   ]
  },
  {
   "cell_type": "code",
   "execution_count": null,
   "metadata": {},
   "outputs": [],
   "source": [
    "concordance_index(iucpq_pred_df.Actual, iucpq_pred_df.Predicted)"
   ]
  },
  {
   "cell_type": "code",
   "execution_count": null,
   "metadata": {},
   "outputs": [],
   "source": [
    "data_norm_iucpq"
   ]
  },
  {
   "cell_type": "code",
   "execution_count": null,
   "metadata": {},
   "outputs": [],
   "source": [
    "def get_p_values(df):\n",
    "    list_clin_feats = [\"age\", \"smoking_habit\", \"ecog_status\",\"sex\", \"first_line_io\", \"histology_group\"]#\"age\",\n",
    "    df_p_values = pd.DataFrame(columns=[\"Feature\", \"p-Value\"])\n",
    "    for x_col in list_clin_feats:\n",
    "        print(x_col)\n",
    "        X = sm.add_constant(df[x_col])\n",
    "        y = df.os_days\n",
    "        # Fit and summarize OLS model\n",
    "        mod = sm.OLS(y, X)\n",
    "        res = mod.fit()\n",
    "        \n",
    "        p_temp = mod.fit().pvalues.loc[x_col]\n",
    "        new_row = pd.DataFrame({\"Feature\": x_col, \"p-Value\":p_temp}, index=[0])\n",
    "        df_p_values = pd.concat([df_p_values, new_row])\n",
    "        #print(res.summary())\n",
    "\n",
    "        # scatter-plot data\n",
    "        ax = df.plot(x=x_col, y='os_days', kind='scatter')\n",
    "        # plot regression line\n",
    "        abline_plot(model_results=mod.fit(), ax=ax)\n",
    "        plt.show()\n",
    "    return df_p_values\n"
   ]
  },
  {
   "cell_type": "code",
   "execution_count": null,
   "metadata": {},
   "outputs": [],
   "source": [
    "#clinical_iucpq_cat = load_helper.make_cat_to_int(clinical_iucpq)\n",
    "df_p_values_iucpq = get_p_values(data_norm_iucpq) \n",
    "\n",
    "#clinical_CHUM_cat = make_cat_to_int(clinical_chum)\n",
    "df_p_values_CHUM = get_p_values(data_norm_chum)"
   ]
  },
  {
   "cell_type": "code",
   "execution_count": null,
   "metadata": {},
   "outputs": [],
   "source": [
    "df_p_values_CHUM.round(5)"
   ]
  },
  {
   "cell_type": "code",
   "execution_count": null,
   "metadata": {},
   "outputs": [],
   "source": [
    "df_p_values_CHUM.round(5)"
   ]
  },
  {
   "cell_type": "code",
   "execution_count": null,
   "metadata": {},
   "outputs": [],
   "source": [
    "df_p_values_CHUM[\"p-Value\"].round(5)"
   ]
  },
  {
   "cell_type": "code",
   "execution_count": null,
   "metadata": {},
   "outputs": [],
   "source": [
    "df_p_values_iucpq"
   ]
  },
  {
   "cell_type": "code",
   "execution_count": null,
   "metadata": {},
   "outputs": [],
   "source": [
    "df_p_values_iucpq"
   ]
  },
  {
   "attachments": {},
   "cell_type": "markdown",
   "metadata": {},
   "source": [
    "# Multivariate Prediction with clinical Data"
   ]
  },
  {
   "cell_type": "code",
   "execution_count": null,
   "metadata": {},
   "outputs": [],
   "source": [
    "def get_p_values_multi(df):\n",
    "    list_clin_feats = [\"age\", \"smoking_habit\", \"ecog_status\",\"sex\", \"first_line_io\", \"histology_group\"]#\"age\",\n",
    "    df_p_values = pd.DataFrame(columns=[\"Feature\", \"p-Value\"])\n",
    "    \n",
    "    X = sm.add_constant(df[list_clin_feats])\n",
    "    y = df.os_days\n",
    "    # Fit and summarize OLS model\n",
    "    mod = sm.OLS(y, X)\n",
    "    res = mod.fit()\n",
    "    #p_temp = mod.fit().pvalues.loc[x_col]\n",
    "    #new_row = pd.DataFrame({\"Feature\": x_col, \"p-Value\":p_temp}, index=[0])\n",
    "    #df_p_values = pd.concat([df_p_values, new_row])\n",
    "    print(res.summary())\n",
    "\n",
    "    # scatter-plot data\n",
    "    #ax = df.plot(x=x_col, y='os_days', kind='scatter')\n",
    "    # plot regression line\n",
    "    #abline_plot(model_results=mod.fit(), ax=ax)\n",
    "    #plt.show()\n",
    "    #return df_p_values"
   ]
  },
  {
   "cell_type": "code",
   "execution_count": null,
   "metadata": {},
   "outputs": [],
   "source": [
    "get_p_values_multi(data_norm_iucpq)"
   ]
  },
  {
   "cell_type": "code",
   "execution_count": null,
   "metadata": {},
   "outputs": [],
   "source": [
    "get_p_values_multi(clinical_CHUM_cat)"
   ]
  },
  {
   "cell_type": "code",
   "execution_count": null,
   "metadata": {},
   "outputs": [],
   "source": []
  },
  {
   "cell_type": "code",
   "execution_count": null,
   "metadata": {},
   "outputs": [],
   "source": [
    "from scipy.stats import mannwhitneyu\n"
   ]
  },
  {
   "cell_type": "code",
   "execution_count": null,
   "metadata": {},
   "outputs": [],
   "source": [
    "mannwhitneyu(clinical_iucpq_col.os_days[clinical_iucpq_col.sex==0], clinical_iucpq_col.os_days[clinical_iucpq_col.sex==1])"
   ]
  },
  {
   "cell_type": "code",
   "execution_count": null,
   "metadata": {},
   "outputs": [],
   "source": [
    "clinical_iucpq_col.os_days[clinical_iucpq_col.sex==0]"
   ]
  },
  {
   "cell_type": "code",
   "execution_count": null,
   "metadata": {},
   "outputs": [],
   "source": [
    "clinical_iucpq_col.os_days"
   ]
  },
  {
   "cell_type": "code",
   "execution_count": null,
   "metadata": {},
   "outputs": [],
   "source": [
    "clinical_iucpq_col.sex"
   ]
  },
  {
   "cell_type": "code",
   "execution_count": null,
   "metadata": {},
   "outputs": [],
   "source": [
    "clinical_iucpq_col.sex[clinical_iucpq_col.sex==0]"
   ]
  },
  {
   "cell_type": "code",
   "execution_count": null,
   "metadata": {},
   "outputs": [],
   "source": [
    "wilcoxon(x=clinical_iucpq_col.sex[clinical_iucpq_col.sex==0], y=clinical_iucpq_col.sex[clinical_iucpq_col.sex==1])"
   ]
  },
  {
   "cell_type": "code",
   "execution_count": null,
   "metadata": {},
   "outputs": [],
   "source": [
    "kruskal(clinical_iucpq_col.os_days, clinical_iucpq_col.smoking_habit)"
   ]
  },
  {
   "cell_type": "code",
   "execution_count": null,
   "metadata": {},
   "outputs": [],
   "source": [
    "kruskal(clinical_iucpq_col.os_days, clinical_iucpq_col.ecog_status)"
   ]
  },
  {
   "cell_type": "code",
   "execution_count": null,
   "metadata": {},
   "outputs": [],
   "source": [
    "clinical_iucpq['sex_id'] = clinical_iucpq.sex.cat.codes"
   ]
  },
  {
   "cell_type": "code",
   "execution_count": null,
   "metadata": {},
   "outputs": [],
   "source": [
    "clinical_iucpq.ecog_status"
   ]
  },
  {
   "attachments": {},
   "cell_type": "markdown",
   "metadata": {},
   "source": [
    "# Univariate Classification Logistic regression"
   ]
  },
  {
   "cell_type": "code",
   "execution_count": 68,
   "metadata": {},
   "outputs": [
    {
     "name": "stdout",
     "output_type": "stream",
     "text": [
      "Q1 quantile:  280.78000000000003\n",
      "Q2 quantile:  594.1200000000001\n",
      "Q3 quantile:  594.1200000000001\n",
      "282.778 602.964 602.964\n",
      "74 75\n"
     ]
    }
   ],
   "source": [
    "path='../../Data/'\n",
    "\n",
    "ch_cl=pd.read_csv(path+'clinical_CHUM.csv')\n",
    "chum=pd.read_csv(path+'PyRads_CHUM.csv')\n",
    "\n",
    "new_d=pd.merge(ch_cl,chum, on='oncotech_id')\n",
    "\n",
    "a=new_d.os_days.quantile(0.333)\n",
    "b=new_d.os_days.quantile(0.666)\n",
    "c=new_d.os_days.quantile(0.666)\n",
    "print(\"Q1 quantile: \", new_d.os_days.quantile(0.33))\n",
    "print(\"Q2 quantile: \", new_d.os_days.quantile(0.66))\n",
    "print(\"Q3 quantile: \", new_d.os_days.quantile(0.66))\n",
    "print(a,b,c)\n",
    "\n",
    "df1=new_d[new_d.os_days<=a].reset_index()\n",
    "df2=new_d[(new_d.os_days>a) & (new_d.os_days<=b)].reset_index()\n",
    "df3=new_d[new_d.os_days>=b].reset_index()\n",
    "\n",
    "print(len(df1), len(df3))"
   ]
  },
  {
   "cell_type": "code",
   "execution_count": 70,
   "metadata": {},
   "outputs": [],
   "source": [
    "column_name='class_os_days'\n",
    "#with open(rad_path_chum+\"feature_radimics.json\", \"r\") as fp:\n",
    "#    feature_name = json.load(fp)\n",
    "\n",
    "radomics_first = df1\n",
    "radomics_second = df3\n",
    "radomics_first[column_name] = 0\n",
    "radomics_second[column_name] = 1\n",
    "radomics_chum = pd.concat([radomics_first, radomics_second], ignore_index=True)"
   ]
  },
  {
   "cell_type": "code",
   "execution_count": 71,
   "metadata": {},
   "outputs": [
    {
     "data": {
      "text/html": [
       "<div>\n",
       "<style scoped>\n",
       "    .dataframe tbody tr th:only-of-type {\n",
       "        vertical-align: middle;\n",
       "    }\n",
       "\n",
       "    .dataframe tbody tr th {\n",
       "        vertical-align: top;\n",
       "    }\n",
       "\n",
       "    .dataframe thead th {\n",
       "        text-align: right;\n",
       "    }\n",
       "</style>\n",
       "<table border=\"1\" class=\"dataframe\">\n",
       "  <thead>\n",
       "    <tr style=\"text-align: right;\">\n",
       "      <th></th>\n",
       "      <th>index</th>\n",
       "      <th>Unnamed: 0_x</th>\n",
       "      <th>oncotech_id</th>\n",
       "      <th>center</th>\n",
       "      <th>sex</th>\n",
       "      <th>dob</th>\n",
       "      <th>age</th>\n",
       "      <th>weight</th>\n",
       "      <th>height</th>\n",
       "      <th>bmi</th>\n",
       "      <th>...</th>\n",
       "      <th>wavelet.LLL_gldm_GrayLevelVariance</th>\n",
       "      <th>wavelet.LLL_gldm_HighGrayLevelEmphasis</th>\n",
       "      <th>wavelet.LLL_gldm_LargeDependenceEmphasis</th>\n",
       "      <th>wavelet.LLL_gldm_LargeDependenceHighGrayLevelEmphasis</th>\n",
       "      <th>wavelet.LLL_gldm_LargeDependenceLowGrayLevelEmphasis</th>\n",
       "      <th>wavelet.LLL_gldm_LowGrayLevelEmphasis</th>\n",
       "      <th>wavelet.LLL_gldm_SmallDependenceEmphasis</th>\n",
       "      <th>wavelet.LLL_gldm_SmallDependenceHighGrayLevelEmphasis</th>\n",
       "      <th>wavelet.LLL_gldm_SmallDependenceLowGrayLevelEmphasis</th>\n",
       "      <th>class_os_days</th>\n",
       "    </tr>\n",
       "  </thead>\n",
       "  <tbody>\n",
       "    <tr>\n",
       "      <th>0</th>\n",
       "      <td>2</td>\n",
       "      <td>4</td>\n",
       "      <td>004-CHUM</td>\n",
       "      <td>CHUM</td>\n",
       "      <td>Female</td>\n",
       "      <td>1950-06-17</td>\n",
       "      <td>67.964</td>\n",
       "      <td>86.0</td>\n",
       "      <td>165</td>\n",
       "      <td>31.589</td>\n",
       "      <td>...</td>\n",
       "      <td>388.436840</td>\n",
       "      <td>2035.413453</td>\n",
       "      <td>2.804484</td>\n",
       "      <td>7829.888789</td>\n",
       "      <td>0.003951</td>\n",
       "      <td>0.002591</td>\n",
       "      <td>0.722976</td>\n",
       "      <td>1329.528189</td>\n",
       "      <td>0.002349</td>\n",
       "      <td>0</td>\n",
       "    </tr>\n",
       "    <tr>\n",
       "      <th>1</th>\n",
       "      <td>5</td>\n",
       "      <td>7</td>\n",
       "      <td>007-CHUM</td>\n",
       "      <td>CHUM</td>\n",
       "      <td>Female</td>\n",
       "      <td>1965-05-15</td>\n",
       "      <td>53.060</td>\n",
       "      <td>46.9</td>\n",
       "      <td>157</td>\n",
       "      <td>19.027</td>\n",
       "      <td>...</td>\n",
       "      <td>149.038674</td>\n",
       "      <td>4266.465444</td>\n",
       "      <td>9.333112</td>\n",
       "      <td>41475.318012</td>\n",
       "      <td>0.002318</td>\n",
       "      <td>0.000386</td>\n",
       "      <td>0.396908</td>\n",
       "      <td>1568.787144</td>\n",
       "      <td>0.000240</td>\n",
       "      <td>0</td>\n",
       "    </tr>\n",
       "    <tr>\n",
       "      <th>2</th>\n",
       "      <td>10</td>\n",
       "      <td>13</td>\n",
       "      <td>014-CHUM</td>\n",
       "      <td>CHUM</td>\n",
       "      <td>Male</td>\n",
       "      <td>1951-07-29</td>\n",
       "      <td>64.753</td>\n",
       "      <td>60.0</td>\n",
       "      <td>163</td>\n",
       "      <td>22.583</td>\n",
       "      <td>...</td>\n",
       "      <td>320.893048</td>\n",
       "      <td>5724.947729</td>\n",
       "      <td>4.176503</td>\n",
       "      <td>24157.323948</td>\n",
       "      <td>0.000864</td>\n",
       "      <td>0.000265</td>\n",
       "      <td>0.602162</td>\n",
       "      <td>3420.626325</td>\n",
       "      <td>0.000188</td>\n",
       "      <td>0</td>\n",
       "    </tr>\n",
       "    <tr>\n",
       "      <th>3</th>\n",
       "      <td>11</td>\n",
       "      <td>15</td>\n",
       "      <td>016-CHUM</td>\n",
       "      <td>CHUM</td>\n",
       "      <td>Male</td>\n",
       "      <td>1940-11-26</td>\n",
       "      <td>76.879</td>\n",
       "      <td>68.5</td>\n",
       "      <td>173</td>\n",
       "      <td>22.888</td>\n",
       "      <td>...</td>\n",
       "      <td>405.219567</td>\n",
       "      <td>6260.377085</td>\n",
       "      <td>5.117920</td>\n",
       "      <td>31351.203656</td>\n",
       "      <td>0.000972</td>\n",
       "      <td>0.000265</td>\n",
       "      <td>0.555148</td>\n",
       "      <td>3548.994970</td>\n",
       "      <td>0.000186</td>\n",
       "      <td>0</td>\n",
       "    </tr>\n",
       "    <tr>\n",
       "      <th>4</th>\n",
       "      <td>13</td>\n",
       "      <td>17</td>\n",
       "      <td>018-CHUM</td>\n",
       "      <td>CHUM</td>\n",
       "      <td>Male</td>\n",
       "      <td>1942-01-13</td>\n",
       "      <td>76.027</td>\n",
       "      <td>73.0</td>\n",
       "      <td>179</td>\n",
       "      <td>22.783</td>\n",
       "      <td>...</td>\n",
       "      <td>31.089032</td>\n",
       "      <td>1307.761256</td>\n",
       "      <td>45.269565</td>\n",
       "      <td>59777.593353</td>\n",
       "      <td>0.035148</td>\n",
       "      <td>0.001066</td>\n",
       "      <td>0.113611</td>\n",
       "      <td>143.450382</td>\n",
       "      <td>0.000345</td>\n",
       "      <td>0</td>\n",
       "    </tr>\n",
       "    <tr>\n",
       "      <th>...</th>\n",
       "      <td>...</td>\n",
       "      <td>...</td>\n",
       "      <td>...</td>\n",
       "      <td>...</td>\n",
       "      <td>...</td>\n",
       "      <td>...</td>\n",
       "      <td>...</td>\n",
       "      <td>...</td>\n",
       "      <td>...</td>\n",
       "      <td>...</td>\n",
       "      <td>...</td>\n",
       "      <td>...</td>\n",
       "      <td>...</td>\n",
       "      <td>...</td>\n",
       "      <td>...</td>\n",
       "      <td>...</td>\n",
       "      <td>...</td>\n",
       "      <td>...</td>\n",
       "      <td>...</td>\n",
       "      <td>...</td>\n",
       "      <td>...</td>\n",
       "    </tr>\n",
       "    <tr>\n",
       "      <th>144</th>\n",
       "      <td>174</td>\n",
       "      <td>226</td>\n",
       "      <td>232-CHUM</td>\n",
       "      <td>CHUM</td>\n",
       "      <td>Male</td>\n",
       "      <td>1942-09-21</td>\n",
       "      <td>76.460</td>\n",
       "      <td>67.2</td>\n",
       "      <td>157</td>\n",
       "      <td>27.263</td>\n",
       "      <td>...</td>\n",
       "      <td>91.096662</td>\n",
       "      <td>2558.456603</td>\n",
       "      <td>12.059109</td>\n",
       "      <td>32951.808124</td>\n",
       "      <td>0.004862</td>\n",
       "      <td>0.000700</td>\n",
       "      <td>0.338935</td>\n",
       "      <td>771.274597</td>\n",
       "      <td>0.000432</td>\n",
       "      <td>1</td>\n",
       "    </tr>\n",
       "    <tr>\n",
       "      <th>145</th>\n",
       "      <td>175</td>\n",
       "      <td>227</td>\n",
       "      <td>233-CHUM</td>\n",
       "      <td>CHUM</td>\n",
       "      <td>Male</td>\n",
       "      <td>1949-09-05</td>\n",
       "      <td>68.903</td>\n",
       "      <td>70.2</td>\n",
       "      <td>175</td>\n",
       "      <td>22.922</td>\n",
       "      <td>...</td>\n",
       "      <td>352.830140</td>\n",
       "      <td>5123.056023</td>\n",
       "      <td>7.828809</td>\n",
       "      <td>49887.456459</td>\n",
       "      <td>0.001562</td>\n",
       "      <td>0.000424</td>\n",
       "      <td>0.516803</td>\n",
       "      <td>2131.434951</td>\n",
       "      <td>0.000326</td>\n",
       "      <td>1</td>\n",
       "    </tr>\n",
       "    <tr>\n",
       "      <th>146</th>\n",
       "      <td>176</td>\n",
       "      <td>228</td>\n",
       "      <td>234-CHUM</td>\n",
       "      <td>CHUM</td>\n",
       "      <td>Male</td>\n",
       "      <td>1947-09-27</td>\n",
       "      <td>69.503</td>\n",
       "      <td>69.0</td>\n",
       "      <td>169</td>\n",
       "      <td>24.159</td>\n",
       "      <td>...</td>\n",
       "      <td>2146.265732</td>\n",
       "      <td>10557.906894</td>\n",
       "      <td>8.372493</td>\n",
       "      <td>67804.689395</td>\n",
       "      <td>0.001262</td>\n",
       "      <td>0.000184</td>\n",
       "      <td>0.423935</td>\n",
       "      <td>5696.242197</td>\n",
       "      <td>0.000100</td>\n",
       "      <td>1</td>\n",
       "    </tr>\n",
       "    <tr>\n",
       "      <th>147</th>\n",
       "      <td>177</td>\n",
       "      <td>229</td>\n",
       "      <td>235-CHUM</td>\n",
       "      <td>CHUM</td>\n",
       "      <td>Male</td>\n",
       "      <td>1950-10-03</td>\n",
       "      <td>67.737</td>\n",
       "      <td>86.0</td>\n",
       "      <td>181</td>\n",
       "      <td>26.251</td>\n",
       "      <td>...</td>\n",
       "      <td>223.935691</td>\n",
       "      <td>6150.061326</td>\n",
       "      <td>13.001682</td>\n",
       "      <td>84144.353047</td>\n",
       "      <td>0.002288</td>\n",
       "      <td>0.000277</td>\n",
       "      <td>0.362771</td>\n",
       "      <td>2060.156474</td>\n",
       "      <td>0.000165</td>\n",
       "      <td>1</td>\n",
       "    </tr>\n",
       "    <tr>\n",
       "      <th>148</th>\n",
       "      <td>221</td>\n",
       "      <td>306</td>\n",
       "      <td>319-CHUM</td>\n",
       "      <td>CHUM</td>\n",
       "      <td>Female</td>\n",
       "      <td>1959-05-29</td>\n",
       "      <td>59.699</td>\n",
       "      <td>70.5</td>\n",
       "      <td>157</td>\n",
       "      <td>28.602</td>\n",
       "      <td>...</td>\n",
       "      <td>221.419878</td>\n",
       "      <td>2728.375555</td>\n",
       "      <td>14.177439</td>\n",
       "      <td>42445.154062</td>\n",
       "      <td>0.005694</td>\n",
       "      <td>0.000588</td>\n",
       "      <td>0.353532</td>\n",
       "      <td>917.780308</td>\n",
       "      <td>0.000276</td>\n",
       "      <td>1</td>\n",
       "    </tr>\n",
       "  </tbody>\n",
       "</table>\n",
       "<p>149 rows × 911 columns</p>\n",
       "</div>"
      ],
      "text/plain": [
       "     index  Unnamed: 0_x oncotech_id center     sex         dob     age  \\\n",
       "0        2             4    004-CHUM   CHUM  Female  1950-06-17  67.964   \n",
       "1        5             7    007-CHUM   CHUM  Female  1965-05-15  53.060   \n",
       "2       10            13    014-CHUM   CHUM    Male  1951-07-29  64.753   \n",
       "3       11            15    016-CHUM   CHUM    Male  1940-11-26  76.879   \n",
       "4       13            17    018-CHUM   CHUM    Male  1942-01-13  76.027   \n",
       "..     ...           ...         ...    ...     ...         ...     ...   \n",
       "144    174           226    232-CHUM   CHUM    Male  1942-09-21  76.460   \n",
       "145    175           227    233-CHUM   CHUM    Male  1949-09-05  68.903   \n",
       "146    176           228    234-CHUM   CHUM    Male  1947-09-27  69.503   \n",
       "147    177           229    235-CHUM   CHUM    Male  1950-10-03  67.737   \n",
       "148    221           306    319-CHUM   CHUM  Female  1959-05-29  59.699   \n",
       "\n",
       "     weight  height     bmi  ... wavelet.LLL_gldm_GrayLevelVariance  \\\n",
       "0      86.0     165  31.589  ...                         388.436840   \n",
       "1      46.9     157  19.027  ...                         149.038674   \n",
       "2      60.0     163  22.583  ...                         320.893048   \n",
       "3      68.5     173  22.888  ...                         405.219567   \n",
       "4      73.0     179  22.783  ...                          31.089032   \n",
       "..      ...     ...     ...  ...                                ...   \n",
       "144    67.2     157  27.263  ...                          91.096662   \n",
       "145    70.2     175  22.922  ...                         352.830140   \n",
       "146    69.0     169  24.159  ...                        2146.265732   \n",
       "147    86.0     181  26.251  ...                         223.935691   \n",
       "148    70.5     157  28.602  ...                         221.419878   \n",
       "\n",
       "    wavelet.LLL_gldm_HighGrayLevelEmphasis  \\\n",
       "0                              2035.413453   \n",
       "1                              4266.465444   \n",
       "2                              5724.947729   \n",
       "3                              6260.377085   \n",
       "4                              1307.761256   \n",
       "..                                     ...   \n",
       "144                            2558.456603   \n",
       "145                            5123.056023   \n",
       "146                           10557.906894   \n",
       "147                            6150.061326   \n",
       "148                            2728.375555   \n",
       "\n",
       "    wavelet.LLL_gldm_LargeDependenceEmphasis  \\\n",
       "0                                   2.804484   \n",
       "1                                   9.333112   \n",
       "2                                   4.176503   \n",
       "3                                   5.117920   \n",
       "4                                  45.269565   \n",
       "..                                       ...   \n",
       "144                                12.059109   \n",
       "145                                 7.828809   \n",
       "146                                 8.372493   \n",
       "147                                13.001682   \n",
       "148                                14.177439   \n",
       "\n",
       "     wavelet.LLL_gldm_LargeDependenceHighGrayLevelEmphasis  \\\n",
       "0                                          7829.888789       \n",
       "1                                         41475.318012       \n",
       "2                                         24157.323948       \n",
       "3                                         31351.203656       \n",
       "4                                         59777.593353       \n",
       "..                                                 ...       \n",
       "144                                       32951.808124       \n",
       "145                                       49887.456459       \n",
       "146                                       67804.689395       \n",
       "147                                       84144.353047       \n",
       "148                                       42445.154062       \n",
       "\n",
       "    wavelet.LLL_gldm_LargeDependenceLowGrayLevelEmphasis  \\\n",
       "0                                             0.003951     \n",
       "1                                             0.002318     \n",
       "2                                             0.000864     \n",
       "3                                             0.000972     \n",
       "4                                             0.035148     \n",
       "..                                                 ...     \n",
       "144                                           0.004862     \n",
       "145                                           0.001562     \n",
       "146                                           0.001262     \n",
       "147                                           0.002288     \n",
       "148                                           0.005694     \n",
       "\n",
       "    wavelet.LLL_gldm_LowGrayLevelEmphasis  \\\n",
       "0                                0.002591   \n",
       "1                                0.000386   \n",
       "2                                0.000265   \n",
       "3                                0.000265   \n",
       "4                                0.001066   \n",
       "..                                    ...   \n",
       "144                              0.000700   \n",
       "145                              0.000424   \n",
       "146                              0.000184   \n",
       "147                              0.000277   \n",
       "148                              0.000588   \n",
       "\n",
       "    wavelet.LLL_gldm_SmallDependenceEmphasis  \\\n",
       "0                                   0.722976   \n",
       "1                                   0.396908   \n",
       "2                                   0.602162   \n",
       "3                                   0.555148   \n",
       "4                                   0.113611   \n",
       "..                                       ...   \n",
       "144                                 0.338935   \n",
       "145                                 0.516803   \n",
       "146                                 0.423935   \n",
       "147                                 0.362771   \n",
       "148                                 0.353532   \n",
       "\n",
       "    wavelet.LLL_gldm_SmallDependenceHighGrayLevelEmphasis  \\\n",
       "0                                          1329.528189      \n",
       "1                                          1568.787144      \n",
       "2                                          3420.626325      \n",
       "3                                          3548.994970      \n",
       "4                                           143.450382      \n",
       "..                                                 ...      \n",
       "144                                         771.274597      \n",
       "145                                        2131.434951      \n",
       "146                                        5696.242197      \n",
       "147                                        2060.156474      \n",
       "148                                         917.780308      \n",
       "\n",
       "    wavelet.LLL_gldm_SmallDependenceLowGrayLevelEmphasis class_os_days  \n",
       "0                                             0.002349               0  \n",
       "1                                             0.000240               0  \n",
       "2                                             0.000188               0  \n",
       "3                                             0.000186               0  \n",
       "4                                             0.000345               0  \n",
       "..                                                 ...             ...  \n",
       "144                                           0.000432               1  \n",
       "145                                           0.000326               1  \n",
       "146                                           0.000100               1  \n",
       "147                                           0.000165               1  \n",
       "148                                           0.000276               1  \n",
       "\n",
       "[149 rows x 911 columns]"
      ]
     },
     "execution_count": 71,
     "metadata": {},
     "output_type": "execute_result"
    }
   ],
   "source": [
    "radomics_chum"
   ]
  },
  {
   "cell_type": "code",
   "execution_count": null,
   "metadata": {},
   "outputs": [],
   "source": []
  }
 ],
 "metadata": {
  "kernelspec": {
   "display_name": "venv1",
   "language": "python",
   "name": "python3"
  },
  "language_info": {
   "codemirror_mode": {
    "name": "ipython",
    "version": 3
   },
   "file_extension": ".py",
   "mimetype": "text/x-python",
   "name": "python",
   "nbconvert_exporter": "python",
   "pygments_lexer": "ipython3",
   "version": "3.9.12"
  },
  "orig_nbformat": 4,
  "vscode": {
   "interpreter": {
    "hash": "69e36361f029340edbbe20fd5b88d51f79a0b0bf2ee73f9b7b442d52fbf2cb23"
   }
  }
 },
 "nbformat": 4,
 "nbformat_minor": 2
}
