{
 "cells": [
  {
   "cell_type": "code",
   "execution_count": 1,
   "metadata": {},
   "outputs": [],
   "source": [
    "import pandas as pd\n",
    "import statsmodels.api as sm\n",
    "import numpy as np"
   ]
  },
  {
   "cell_type": "markdown",
   "metadata": {},
   "source": [
    "# Sevinj calculation of short and long term classification os_days"
   ]
  },
  {
   "cell_type": "code",
   "execution_count": 2,
   "metadata": {},
   "outputs": [],
   "source": [
    "path='../../Data/'\n",
    "\n",
    "ch_cl=pd.read_csv(path+'clinical_CHUM.csv')\n",
    "chum=pd.read_csv(path+'PyRads_CHUM.csv')\n",
    "\n",
    "new_d=pd.merge(ch_cl,chum, on='oncotech_id')\n"
   ]
  },
  {
   "cell_type": "code",
   "execution_count": 3,
   "metadata": {},
   "outputs": [],
   "source": [
    "radiomics_features = list(chum.columns)\n",
    "radiomics_features.remove(\"oncotech_id\")\n",
    "radiomics_features.remove(\"Unnamed: 0\")"
   ]
  },
  {
   "cell_type": "code",
   "execution_count": 4,
   "metadata": {},
   "outputs": [
    {
     "name": "stdout",
     "output_type": "stream",
     "text": [
      "Q1 quantile:  280.78000000000003\n",
      "Q2 quantile:  594.1200000000001\n",
      "Q3 quantile:  594.1200000000001\n",
      "282.778 602.964 602.964\n",
      "74 75\n"
     ]
    }
   ],
   "source": [
    "a=new_d.os_days.quantile(0.333)\n",
    "b=new_d.os_days.quantile(0.666)\n",
    "c=new_d.os_days.quantile(0.666)\n",
    "print(\"Q1 quantile: \", new_d.os_days.quantile(0.33))\n",
    "print(\"Q2 quantile: \", new_d.os_days.quantile(0.66))\n",
    "print(\"Q3 quantile: \", new_d.os_days.quantile(0.66))\n",
    "print(a,b,c)\n",
    "\n",
    "df1=new_d[new_d.os_days<=a].reset_index()\n",
    "df2=new_d[(new_d.os_days>a) & (new_d.os_days<=b)].reset_index()\n",
    "df3=new_d[new_d.os_days>=b].reset_index()\n",
    "\n",
    "print(len(df1), len(df3))\n",
    "\n",
    "#rad_path_chum='/Users/sevinjyolchuyeva/Desktop/postdoc/data_os_days/data/'\n",
    "column_name='class_os_days'\n",
    "#with open(rad_path_chum+\"feature_radimics.json\", \"r\") as fp:\n",
    "#    feature_name = json.load(fp)\n",
    "\n",
    "radomics_first = df1\n",
    "radomics_second = df3\n",
    "radomics_first[column_name] = 0\n",
    "radomics_second[column_name] = 1\n",
    "radomics_chum=pd.concat([radomics_first, radomics_second], ignore_index=True)\n",
    "radomics_chum=radomics_chum.sample(frac=1).reset_index(drop=True)"
   ]
  },
  {
   "attachments": {},
   "cell_type": "markdown",
   "metadata": {},
   "source": [
    "# Analysis of clinical features"
   ]
  },
  {
   "cell_type": "code",
   "execution_count": 5,
   "metadata": {},
   "outputs": [],
   "source": [
    "clinical_features = [\"age\", \"sex\", \"ecog_status\", \"first_line_io\", \"smoking_habit\", \"histology_group\"]\n",
    "predictor = \"class_os_days\""
   ]
  },
  {
   "cell_type": "code",
   "execution_count": 6,
   "metadata": {},
   "outputs": [],
   "source": [
    "def change_groupstr_to_id(df, col):\n",
    "    df[col] = pd.Categorical(df[col])\n",
    "    df[col] = df[col].cat.codes\n",
    "    return df"
   ]
  },
  {
   "cell_type": "code",
   "execution_count": 7,
   "metadata": {},
   "outputs": [
    {
     "name": "stdout",
     "output_type": "stream",
     "text": [
      "age\n",
      "0\n",
      "sex\n",
      "0\n",
      "ecog_status\n",
      "0\n",
      "first_line_io\n",
      "0\n",
      "smoking_habit\n",
      "0\n",
      "histology_group\n",
      "0\n"
     ]
    }
   ],
   "source": [
    "# Data check\n",
    "for clinic in clinical_features:\n",
    "    if clinic in [\"sex\", \"smoking_habit\", \"ecog_status\", \"first_line_io\", \"histology_group\"]:\n",
    "        radomics_chum = change_groupstr_to_id(radomics_chum, clinic)\n",
    "    print(clinic)\n",
    "    print(len(radomics_chum[radomics_chum[clinic].isna()]))\n"
   ]
  },
  {
   "attachments": {},
   "cell_type": "markdown",
   "metadata": {},
   "source": [
    "## Univariate"
   ]
  },
  {
   "cell_type": "code",
   "execution_count": 8,
   "metadata": {},
   "outputs": [],
   "source": [
    "from statsmodels.stats.multitest import fdrcorrection\n"
   ]
  },
  {
   "cell_type": "code",
   "execution_count": 9,
   "metadata": {},
   "outputs": [
    {
     "name": "stdout",
     "output_type": "stream",
     "text": [
      "Optimization terminated successfully.\n",
      "         Current function value: 0.693127\n",
      "         Iterations 2\n",
      "Optimization terminated successfully.\n",
      "         Current function value: 0.685337\n",
      "         Iterations 4\n",
      "Optimization terminated successfully.\n",
      "         Current function value: 0.662766\n",
      "         Iterations 5\n",
      "Optimization terminated successfully.\n",
      "         Current function value: 0.688818\n",
      "         Iterations 4\n",
      "Optimization terminated successfully.\n",
      "         Current function value: 0.693122\n",
      "         Iterations 3\n",
      "Optimization terminated successfully.\n",
      "         Current function value: 0.687231\n",
      "         Iterations 4\n"
     ]
    },
    {
     "data": {
      "text/html": [
       "<div>\n",
       "<style scoped>\n",
       "    .dataframe tbody tr th:only-of-type {\n",
       "        vertical-align: middle;\n",
       "    }\n",
       "\n",
       "    .dataframe tbody tr th {\n",
       "        vertical-align: top;\n",
       "    }\n",
       "\n",
       "    .dataframe thead th {\n",
       "        text-align: right;\n",
       "    }\n",
       "</style>\n",
       "<table border=\"1\" class=\"dataframe\">\n",
       "  <thead>\n",
       "    <tr style=\"text-align: right;\">\n",
       "      <th></th>\n",
       "      <th>Feature</th>\n",
       "      <th>p_val</th>\n",
       "      <th>FDR_corr</th>\n",
       "      <th>-log10(FDR)</th>\n",
       "    </tr>\n",
       "  </thead>\n",
       "  <tbody>\n",
       "    <tr>\n",
       "      <th>0</th>\n",
       "      <td>age</td>\n",
       "      <td>0.93852</td>\n",
       "      <td>0.93852</td>\n",
       "      <td>0.02756</td>\n",
       "    </tr>\n",
       "    <tr>\n",
       "      <th>0</th>\n",
       "      <td>sex</td>\n",
       "      <td>0.13019</td>\n",
       "      <td>0.38434</td>\n",
       "      <td>0.41529</td>\n",
       "    </tr>\n",
       "    <tr>\n",
       "      <th>0</th>\n",
       "      <td>ecog_status</td>\n",
       "      <td>0.00390</td>\n",
       "      <td>0.02341</td>\n",
       "      <td>1.63057</td>\n",
       "    </tr>\n",
       "    <tr>\n",
       "      <th>0</th>\n",
       "      <td>first_line_io</td>\n",
       "      <td>0.26044</td>\n",
       "      <td>0.39066</td>\n",
       "      <td>0.40820</td>\n",
       "    </tr>\n",
       "    <tr>\n",
       "      <th>0</th>\n",
       "      <td>smoking_habit</td>\n",
       "      <td>0.93141</td>\n",
       "      <td>0.93852</td>\n",
       "      <td>0.02756</td>\n",
       "    </tr>\n",
       "    <tr>\n",
       "      <th>0</th>\n",
       "      <td>histology_group</td>\n",
       "      <td>0.19217</td>\n",
       "      <td>0.38434</td>\n",
       "      <td>0.41529</td>\n",
       "    </tr>\n",
       "  </tbody>\n",
       "</table>\n",
       "</div>"
      ],
      "text/plain": [
       "           Feature    p_val  FDR_corr  -log10(FDR)\n",
       "0              age  0.93852   0.93852      0.02756\n",
       "0              sex  0.13019   0.38434      0.41529\n",
       "0      ecog_status  0.00390   0.02341      1.63057\n",
       "0    first_line_io  0.26044   0.39066      0.40820\n",
       "0    smoking_habit  0.93141   0.93852      0.02756\n",
       "0  histology_group  0.19217   0.38434      0.41529"
      ]
     },
     "execution_count": 9,
     "metadata": {},
     "output_type": "execute_result"
    }
   ],
   "source": [
    "p_val_df = pd.DataFrame(columns=[\"Feature\", \"p_val\"])\n",
    "for clinic in clinical_features:\n",
    "    Xtrain = np.asarray(radomics_chum[[clinic]])\n",
    "    ytrain = np.asarray(radomics_chum[[predictor]])\n",
    "    log_reg = sm.Logit(ytrain, Xtrain).fit()\n",
    "    p_temp = log_reg.pvalues[0]\n",
    "    row_temp = pd.DataFrame(dict(zip([\"Feature\", \"p_val\"], [clinic, p_temp])), index=[0]) #auc_col_name  roc_score\n",
    "    p_val_df = pd.concat([p_val_df,row_temp])\n",
    "\n",
    "p_val_arr = np.array(p_val_df[\"p_val\"])\n",
    "reject, p_val_corrected = fdrcorrection(pvals=p_val_arr)\n",
    "#print(p_val_corrected)\n",
    "p_val_df[\"FDR_corr\"] = p_val_corrected\n",
    "p_val_df[\"-log10(FDR)\"] = -np.log10(p_val_corrected)\n",
    "p_val_df.round(5)"
   ]
  },
  {
   "cell_type": "code",
   "execution_count": 13,
   "metadata": {},
   "outputs": [
    {
     "data": {
      "text/html": [
       "<div>\n",
       "<style scoped>\n",
       "    .dataframe tbody tr th:only-of-type {\n",
       "        vertical-align: middle;\n",
       "    }\n",
       "\n",
       "    .dataframe tbody tr th {\n",
       "        vertical-align: top;\n",
       "    }\n",
       "\n",
       "    .dataframe thead th {\n",
       "        text-align: right;\n",
       "    }\n",
       "</style>\n",
       "<table border=\"1\" class=\"dataframe\">\n",
       "  <thead>\n",
       "    <tr style=\"text-align: right;\">\n",
       "      <th></th>\n",
       "      <th>Feature</th>\n",
       "      <th>p_val</th>\n",
       "    </tr>\n",
       "  </thead>\n",
       "  <tbody>\n",
       "    <tr>\n",
       "      <th>0</th>\n",
       "      <td>age</td>\n",
       "      <td>0.938520</td>\n",
       "    </tr>\n",
       "    <tr>\n",
       "      <th>0</th>\n",
       "      <td>sex</td>\n",
       "      <td>0.130191</td>\n",
       "    </tr>\n",
       "    <tr>\n",
       "      <th>0</th>\n",
       "      <td>ecog_status</td>\n",
       "      <td>0.003902</td>\n",
       "    </tr>\n",
       "    <tr>\n",
       "      <th>0</th>\n",
       "      <td>first_line_io</td>\n",
       "      <td>0.260440</td>\n",
       "    </tr>\n",
       "    <tr>\n",
       "      <th>0</th>\n",
       "      <td>smoking_habit</td>\n",
       "      <td>0.931415</td>\n",
       "    </tr>\n",
       "    <tr>\n",
       "      <th>0</th>\n",
       "      <td>histology_group</td>\n",
       "      <td>0.192168</td>\n",
       "    </tr>\n",
       "  </tbody>\n",
       "</table>\n",
       "</div>"
      ],
      "text/plain": [
       "           Feature     p_val\n",
       "0              age  0.938520\n",
       "0              sex  0.130191\n",
       "0      ecog_status  0.003902\n",
       "0    first_line_io  0.260440\n",
       "0    smoking_habit  0.931415\n",
       "0  histology_group  0.192168"
      ]
     },
     "execution_count": 13,
     "metadata": {},
     "output_type": "execute_result"
    }
   ],
   "source": [
    "p_val_df[[\"Feature\", \"p_val\"]]"
   ]
  },
  {
   "attachments": {},
   "cell_type": "markdown",
   "metadata": {},
   "source": [
    "## Multivariate"
   ]
  },
  {
   "cell_type": "code",
   "execution_count": 35,
   "metadata": {},
   "outputs": [
    {
     "name": "stdout",
     "output_type": "stream",
     "text": [
      "['age', 'sex', 'ecog_status', 'first_line_io']\n",
      "Optimization terminated successfully.\n",
      "         Current function value: 0.593273\n",
      "         Iterations 5\n",
      "[3.65028398e-05 5.89342872e-02 2.47011942e-05 5.75249443e-02]\n",
      "[3.65028398e-05 5.89342872e-02 2.47011942e-05 5.75249443e-02]\n",
      "[3.65028398e-05 5.89342872e-02 2.47011942e-05 5.75249443e-02]\n",
      "[3.65028398e-05 5.89342872e-02 2.47011942e-05 5.75249443e-02]\n"
     ]
    }
   ],
   "source": [
    "multivaris1 = [\"age\", \"sex\", \"ecog_status\", \"first_line_io\"]\n",
    "multivaris2 = [\"age\", \"sex\", \"ecog_status\", \"first_line_io\",  \"histology_group\"]\n",
    "multivaris3 = [\"age\", \"sex\", \"ecog_status\", \"first_line_io\",  \"histology_group\", \"smoking_habit\"]\n",
    "multis = [multivaris1, multivaris2, multivaris3]\n",
    "p_val_df_multi = pd.DataFrame(columns=[\"Feature\", \"p_val\"])\n",
    "p_val_df_multi_feats = pd.DataFrame(columns=[\"Feature\", \"p_val\"])\n",
    "def multi_analysis(variables):\n",
    "    p_val_df_multi = pd.DataFrame(columns=[\"Feature\", \"p_val\"])\n",
    "\n",
    "    print(str(variables))\n",
    "    Xtrain = np.asarray(radomics_chum[variables])\n",
    "    ytrain = np.asarray(radomics_chum[[predictor]])\n",
    "    log_reg = sm.Logit(ytrain, Xtrain).fit()\n",
    "\n",
    "    #p_val_df_multi_feats_temp = pd.DataFrame(columns=[\"Feature\", \"p_val\"])\n",
    "    for i, feat in enumerate(variables):\n",
    "        print(log_reg.pvalues)\n",
    "        p_feat = log_reg.pvalues[i]\n",
    "\n",
    "        row_temp = pd.DataFrame(dict(zip([\"Feature\", \"p_val\"], [str(feat), p_feat])), index=[0])\n",
    "        p_val_df_multi = pd.concat([p_val_df_multi,row_temp])\n",
    "    return p_val_df_multi\n",
    "df1 = multi_analysis(multivaris1)"
   ]
  },
  {
   "cell_type": "code",
   "execution_count": 36,
   "metadata": {},
   "outputs": [
    {
     "data": {
      "text/html": [
       "<div>\n",
       "<style scoped>\n",
       "    .dataframe tbody tr th:only-of-type {\n",
       "        vertical-align: middle;\n",
       "    }\n",
       "\n",
       "    .dataframe tbody tr th {\n",
       "        vertical-align: top;\n",
       "    }\n",
       "\n",
       "    .dataframe thead th {\n",
       "        text-align: right;\n",
       "    }\n",
       "</style>\n",
       "<table border=\"1\" class=\"dataframe\">\n",
       "  <thead>\n",
       "    <tr style=\"text-align: right;\">\n",
       "      <th></th>\n",
       "      <th>Feature</th>\n",
       "      <th>p_val</th>\n",
       "    </tr>\n",
       "  </thead>\n",
       "  <tbody>\n",
       "    <tr>\n",
       "      <th>0</th>\n",
       "      <td>age</td>\n",
       "      <td>0.000037</td>\n",
       "    </tr>\n",
       "    <tr>\n",
       "      <th>0</th>\n",
       "      <td>sex</td>\n",
       "      <td>0.058934</td>\n",
       "    </tr>\n",
       "    <tr>\n",
       "      <th>0</th>\n",
       "      <td>ecog_status</td>\n",
       "      <td>0.000025</td>\n",
       "    </tr>\n",
       "    <tr>\n",
       "      <th>0</th>\n",
       "      <td>first_line_io</td>\n",
       "      <td>0.057525</td>\n",
       "    </tr>\n",
       "  </tbody>\n",
       "</table>\n",
       "</div>"
      ],
      "text/plain": [
       "         Feature     p_val\n",
       "0            age  0.000037\n",
       "0            sex  0.058934\n",
       "0    ecog_status  0.000025\n",
       "0  first_line_io  0.057525"
      ]
     },
     "execution_count": 36,
     "metadata": {},
     "output_type": "execute_result"
    }
   ],
   "source": [
    "df1"
   ]
  },
  {
   "cell_type": "code",
   "execution_count": null,
   "metadata": {},
   "outputs": [],
   "source": [
    "\n",
    "list_clin_feats = [\"age\", \"smoking_habit\", \"ecog_status\",\"sex\", \"first_line_io\", \"histology_group\"]#\"age\",\n",
    "df_p_values = pd.DataFrame(columns=[\"Feature\", \"p-Value\"])\n",
    "\n",
    "X = sm.add_constant(df[list_clin_feats])\n",
    "y = df.os_days\n",
    "# Fit and summarize OLS model\n",
    "mod = sm.OLS(y, X)\n",
    "res = mod.fit()\n",
    "\n",
    "p_temp = mod.fit().pvalues.loc[x_col]\n",
    "#new_row = pd.DataFrame({\"Feature\": x_col, \"p-Value\":p_temp}, index=[0])\n",
    "#df_p_values = pd.concat([df_p_values, new_row])\n",
    "print(res.summary())\n",
    "\n",
    "# scatter-plot data\n",
    "#ax = df.plot(x=x_col, y='os_days', kind='scatter')\n",
    "# plot regression line\n",
    "#abline_plot(model_results=mod.fit(), ax=ax)\n",
    "#plt.show()\n",
    "#return df_p_values"
   ]
  }
 ],
 "metadata": {
  "kernelspec": {
   "display_name": "venv1",
   "language": "python",
   "name": "python3"
  },
  "language_info": {
   "codemirror_mode": {
    "name": "ipython",
    "version": 3
   },
   "file_extension": ".py",
   "mimetype": "text/x-python",
   "name": "python",
   "nbconvert_exporter": "python",
   "pygments_lexer": "ipython3",
   "version": "3.9.12"
  },
  "orig_nbformat": 4,
  "vscode": {
   "interpreter": {
    "hash": "69e36361f029340edbbe20fd5b88d51f79a0b0bf2ee73f9b7b442d52fbf2cb23"
   }
  }
 },
 "nbformat": 4,
 "nbformat_minor": 2
}
