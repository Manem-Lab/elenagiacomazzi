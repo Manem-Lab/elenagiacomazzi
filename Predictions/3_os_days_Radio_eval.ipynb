{
 "cells": [
  {
   "cell_type": "code",
   "execution_count": null,
   "metadata": {},
   "outputs": [],
   "source": [
    "import pandas as pd\n",
    "import helper_evaluation as helper_eval\n",
    "import helper_data_load as helper_load\n",
    "import random\n",
    "import warnings\n",
    "warnings.filterwarnings(\"ignore\")\n",
    "random_state= 42\n",
    "random.seed(random_state)\n",
    "import matplotlib\n",
    "#matplotlib.style.use('bmh') \n"
   ]
  },
  {
   "cell_type": "code",
   "execution_count": null,
   "metadata": {},
   "outputs": [],
   "source": [
    "# Select feature selection method\n",
    "feat_sel_method = \"corr\"\n",
    "corr_meth = \"spearman\""
   ]
  },
  {
   "cell_type": "code",
   "execution_count": null,
   "metadata": {},
   "outputs": [],
   "source": [
    "if feat_sel_method == \"mrmr\":\n",
    "    # if mrmr select to try how many solutions\n",
    "    nr_sol_list = [1, 2, 3, 4]\n",
    "    ##### Just read in the earlier build results\n",
    "    # Lists for the different numbers of results list[0] = nr_sol1, list[1] = nr_sol2...\n",
    "    discovery_chum_mrmr_results_list = []\n",
    "    discovery_iucpq_mrmr_results_list = []\n",
    "    for nr_sol in nr_sol_list:\n",
    "        # Dicovery == CHUM, Validation == IUCPQ\n",
    "        result_discovery_chum = pd.read_csv(\"../../Data/Results/os_days_results_CHUM_discovery_\"+feat_sel_method+str(nr_sol)+\"_std_scl_1-100.csv\", index_col=0)\n",
    "        discovery_chum_mrmr_results_list.append(result_discovery_chum)\n",
    "        # Dicovery == IUCPQ, Validation == CHUM\n",
    "        result_discovery_IUCPQ = pd.read_csv(\"../../Data/Results/os_days_results_IUCPQ_discovery_\"+feat_sel_method+str(nr_sol)+\"_std_scl_1-100.csv\", index_col=0)\n",
    "        discovery_iucpq_mrmr_results_list.append(result_discovery_IUCPQ)\n",
    "elif feat_sel_method == \"corr\":\n",
    "    result_discovery_chum_corr_list = []\n",
    "    result_discovery_iucpq_corr_list = []\n",
    "    if corr_meth == \"spearman\":\n",
    "        nr_sol_list = [-1]\n",
    "    elif corr_meth == \"pearson\":\n",
    "        nr_sol_list = [-2]\n",
    "    nr_sol = nr_sol_list[0]\n",
    "    result_discovery_chum_corr_list.append(pd.read_csv(\"../../Data/Results/os_days_results_CHUM_discovery_\"+feat_sel_method+str(nr_sol)+\"_std_scl_1-100.csv\", index_col=0))\n",
    "    result_discovery_iucpq_corr_list.append(pd.read_csv(\"../../Data/Results/os_days_results_IUCPQ_discovery_\"+feat_sel_method+str(nr_sol)+\"_std_scl_1-100.csv\", index_col=0))\n",
    "elif feat_sel_method == \"mim\":\n",
    "    result_discovery_chum_mim_list = []\n",
    "    result_discovery_iucpq_mim_list = []\n",
    "    nr_sol_list = [-1]\n",
    "    nr_sol = nr_sol_list[0]\n",
    "    result_discovery_chum_mim_list.append(pd.read_csv(\"../../Data/Results/os_days_results_CHUM_discovery_\"+feat_sel_method+str(nr_sol)+\"_std_scl_1-100.csv\", index_col=0))\n",
    "    result_discovery_iucpq_mim_list.append(pd.read_csv(\"../../Data/Results/os_days_results_IUCPQ_discovery_\"+feat_sel_method+str(nr_sol)+\"_std_scl_1-100.csv\", index_col=0))"
   ]
  },
  {
   "cell_type": "code",
   "execution_count": null,
   "metadata": {},
   "outputs": [],
   "source": [
    "def eval(discover_chum_results_list, discovery_iucpq_results_list, feat_sel_meth, corr_meth=\"pearson\"):\n",
    "    ### Plotting Discovery results\n",
    "    save_plots = True\n",
    "    discovery_chum_results_list_rename = [None] * len(nr_sol_list)\n",
    "    discovery_iucpq_results_list_rename = [None] * len(nr_sol_list)\n",
    "    discovery_chum_methods_nr_feat = [None] * len(nr_sol_list)\n",
    "    discovery_iucpq_methods_nr_feat = [None] * len(nr_sol_list)\n",
    "    dicovery_chum_meth_nr_feat_dict = [None] * len(nr_sol_list)\n",
    "    dicovery_iucpq_meth_nr_feat_dict = [None] * len(nr_sol_list)\n",
    "    df_vali_on_iucpq = [None] * len(nr_sol_list)\n",
    "    df_vali_on_chum = [None] * len(nr_sol_list)\n",
    "    df_vali_on_iucpq_rename = [None] * len(nr_sol_list)\n",
    "    df_vali_on_chum_rename = [None] * len(nr_sol_list)\n",
    "\n",
    "    data_norm_chum, data_norm_iucpq = helper_load.get_norm_data()\n",
    "    for i, nr_sol in enumerate(nr_sol_list):\n",
    "        #nr_sol = i+1\n",
    "        #### Discovery == CHUM, Validation == IUCPQ ####\n",
    "        # rename columns for plotting\n",
    "        discovery_chum_results_list_rename[i] = helper_eval.rename_for_plotting(discover_chum_results_list[i])\n",
    "        helper_eval.plot_result(discovery_chum_results_list_rename[i], \"Discovery_CHUM \"+feat_sel_method + str(nr_sol), save_plots, \"_os_days_\"+feat_sel_method+str(nr_sol)+\"_std_scl_1-100\")\n",
    "        # Get the number of features corresponding to the best performance for each method\n",
    "        discovery_chum_results_list_rename[i].set_index(\"Nr. Features\", inplace=True)\n",
    "        discovery_chum_methods_nr_feat[i] = helper_eval.get_nr_feat_per_method(discovery_chum_results_list_rename[i])\n",
    "        discovery_chum_methods_nr_feat[i] = discovery_chum_methods_nr_feat[i].sort_values(\"C-Index\", ascending=False, ignore_index=True)\n",
    "        discovery_chum_methods_nr_feat[i].to_csv(\"../../Data/Results/CHUM_discovery_nr_feat\"+\"_\"+feat_sel_method+str(nr_sol)+\"_1-100.csv\")\n",
    "        # Build a dict which maps the method to the nr of features for best performance\n",
    "        dicovery_chum_meth_nr_feat_dict[i] = helper_eval.get_meth_feat_dict(discovery_chum_methods_nr_feat[i], random_state=random_state)\n",
    "        # Train all methods with best nr_feat on the whole discovery dataset and validate on validation set\n",
    "        df_vali_on_iucpq[i] = helper_eval.train_disc_n_validate(data_norm_chum, data_norm_iucpq, dicovery_chum_meth_nr_feat_dict[i], feat_sel_meth, nr_sol, \"IUCPQ\")\n",
    "        df_vali_on_iucpq[i].set_index(\"Method Name\", inplace=True)\n",
    "        # Save the validation results and plot them\n",
    "        df_vali_on_iucpq[i].to_csv(\"../../Data/Results/os_days_results_best_model_validation_IUCPQ\"+\"_\"+feat_sel_method+str(nr_sol)+\"_1-100.csv\")\n",
    "        helper_eval.plot_vali_results(df_vali_on_iucpq[i], method=\"IUCPQ\", feat_sel_method=feat_sel_method, nr_sol=nr_sol, random_state=random_state, save_plots=save_plots)\n",
    "        # Prepare for general plot\n",
    "        df_vali_on_iucpq_rename[i] = helper_eval.prep_method_name(df_vali_on_iucpq[i], random_state=random_state, name_to_func=False)\n",
    "        discovery_chum_methods_nr_feat[i].rename(columns={\"C-Index\":\"C-Index CHUM Discovery\"}, inplace=True)\n",
    "        \n",
    "        \n",
    "        #### Discovery == IUCPQ, Validation == CHUM ####\n",
    "        # rename columns for plotting\n",
    "        discovery_iucpq_results_list_rename[i] = helper_eval.rename_for_plotting(discovery_iucpq_results_list[i])\n",
    "        helper_eval.plot_result(discovery_iucpq_results_list_rename[i], \"Discovery_IUCPQ \"+feat_sel_method + str(nr_sol), save_plots, \"_os_days_\"+feat_sel_method+str(nr_sol)+\"_std_scl_1-100\")\n",
    "        # Get the number of features corresponding to the best performance for each method\n",
    "        discovery_iucpq_results_list_rename[i].set_index(\"Nr. Features\", inplace=True)\n",
    "        discovery_iucpq_methods_nr_feat[i] = helper_eval.get_nr_feat_per_method(discovery_iucpq_results_list_rename[i])\n",
    "        discovery_iucpq_methods_nr_feat[i] = discovery_iucpq_methods_nr_feat[i].sort_values(\"C-Index\", ascending=False, ignore_index=True)\n",
    "        discovery_iucpq_methods_nr_feat[i].to_csv(\"../../Data/Results/IUCPQ_discovery_nr_feat\"+\"_\"+feat_sel_method+str(nr_sol)+\"_1-100.csv\")\n",
    "        # Build a dict which maps the method to the nr of features for best performance\n",
    "        dicovery_iucpq_meth_nr_feat_dict[i] = helper_eval.get_meth_feat_dict(discovery_iucpq_methods_nr_feat[i], random_state=random_state)\n",
    "        # Train all methods with best nr_feat on the whole discovery dataset and validate on validation set\n",
    "        df_vali_on_chum[i] = helper_eval.train_disc_n_validate(data_norm_iucpq, data_norm_chum, dicovery_iucpq_meth_nr_feat_dict[i], feat_sel_meth, nr_sol, \"CHUM\")\n",
    "        df_vali_on_chum[i].set_index(\"Method Name\", inplace=True)\n",
    "        # Save the validation results and plot them\n",
    "        df_vali_on_chum[i].to_csv(\"../../Data/Results/os_days_results_best_model_validation_CHUM\"+\"_\"+feat_sel_method+str(nr_sol)+\"_1-100.csv\")\n",
    "        helper_eval.plot_vali_results(df_vali_on_chum[i], method=\"CHUM\", feat_sel_method=feat_sel_method, nr_sol=nr_sol, random_state=random_state, save_plots=save_plots)\n",
    "        # Plot all results in one\n",
    "        df_vali_on_chum_rename[i] = helper_eval.prep_method_name(df_vali_on_chum[i], random_state=random_state, name_to_func=False)\n",
    "        discovery_iucpq_methods_nr_feat[i].rename(columns={\"C-Index\":\"C-Index IUCPQ Discovery\"}, inplace=True)\n",
    "\n",
    "        helper_eval.plot_vali_results_in_one(df_vali_on_chum_rename[i], df_vali_on_iucpq_rename[i], discovery_chum_methods_nr_feat[i], discovery_iucpq_methods_nr_feat[i], feat_sel_method, nr_sol, save_plots=save_plots)\n",
    "\n",
    "        if feat_sel_method == \"corr\":\n",
    "            break\n"
   ]
  },
  {
   "cell_type": "code",
   "execution_count": null,
   "metadata": {},
   "outputs": [],
   "source": []
  },
  {
   "cell_type": "code",
   "execution_count": null,
   "metadata": {},
   "outputs": [],
   "source": [
    "if feat_sel_method == \"corr\":\n",
    "    eval(result_discovery_chum_corr_list, result_discovery_iucpq_corr_list, feat_sel_method)\n",
    "elif feat_sel_method == \"mrmr\":\n",
    "    eval(discovery_chum_mrmr_results_list, discovery_iucpq_mrmr_results_list, feat_sel_method)\n",
    "elif feat_sel_method == \"mim\":\n",
    "    eval(result_discovery_chum_mim_list, result_discovery_iucpq_mim_list, feat_sel_method)"
   ]
  },
  {
   "cell_type": "code",
   "execution_count": null,
   "metadata": {},
   "outputs": [],
   "source": []
  }
 ],
 "metadata": {
  "kernelspec": {
   "display_name": "Python 3.9.12 ('venv1': venv)",
   "language": "python",
   "name": "python3"
  },
  "language_info": {
   "codemirror_mode": {
    "name": "ipython",
    "version": 3
   },
   "file_extension": ".py",
   "mimetype": "text/x-python",
   "name": "python",
   "nbconvert_exporter": "python",
   "pygments_lexer": "ipython3",
   "version": "3.9.12"
  },
  "orig_nbformat": 4,
  "vscode": {
   "interpreter": {
    "hash": "69e36361f029340edbbe20fd5b88d51f79a0b0bf2ee73f9b7b442d52fbf2cb23"
   }
  }
 },
 "nbformat": 4,
 "nbformat_minor": 2
}
