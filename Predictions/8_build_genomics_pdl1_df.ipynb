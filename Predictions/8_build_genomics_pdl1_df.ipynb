{
 "cells": [
  {
   "cell_type": "code",
   "execution_count": 1,
   "metadata": {},
   "outputs": [],
   "source": [
    "import pandas as pd\n",
    "import helper_data_load as helper"
   ]
  },
  {
   "attachments": {},
   "cell_type": "markdown",
   "metadata": {},
   "source": [
    "# PDL1- Creat df for R\n",
    "## Notes:\n",
    "- Binary class for pdl1: \n",
    "    - patients with \"1-49%\", \"<1%\" -> low -> 0\n",
    "    - patients with \">50%\" -> high -> 1\n",
    "### Results on datasets:\n",
    "- CHUM\n",
    "    - total: 61 patients\n",
    "    - low -> 0 -> 39\n",
    "    - high -> 1 -> 32\n",
    "- IUCPQ\n",
    "    - total: 54 patients\n",
    "    - low -> 0 -> 15\n",
    "    - high -> 1 -> 39"
   ]
  },
  {
   "cell_type": "code",
   "execution_count": 2,
   "metadata": {},
   "outputs": [],
   "source": [
    "def get_pdl1_class_data(clinical, features_df):\n",
    "    path='../../Data/'\n",
    "\n",
    "    ch_cl=pd.read_csv(path + clinical + '.csv')\n",
    "    chum_gen=pd.read_csv(path + features_df + '.csv')\n",
    "    chum_gen = helper.prep_genomics(chum_gen)\n",
    "    genetic_features = chum_gen.columns[1:]\n",
    "    new_d=pd.merge(ch_cl,chum_gen, on='oncotech_id')\n",
    "    print(len(new_d))\n",
    "    new_d.dropna(subset=[\"pdl1_group\"], inplace=True)\n",
    "    new_d.reset_index(inplace=True)\n",
    "\n",
    "    new_d[\"class_pdl1\"] = 4\n",
    "    new_d[\"class_pdl1\"][new_d.pdl1_group.isin([\"1-49%\", \"<1%\"])] = 0\n",
    "    new_d[\"class_pdl1\"][new_d.pdl1_group.isin([\">50%\"])] = 1\n",
    "    print(new_d[\"class_pdl1\"].value_counts())\n",
    "    return new_d, genetic_features\n"
   ]
  },
  {
   "cell_type": "code",
   "execution_count": 3,
   "metadata": {},
   "outputs": [
    {
     "name": "stdout",
     "output_type": "stream",
     "text": [
      "72\n",
      "0    39\n",
      "1    32\n",
      "Name: class_pdl1, dtype: int64\n"
     ]
    },
    {
     "name": "stderr",
     "output_type": "stream",
     "text": [
      "/var/folders/km/l90xp47s19v3fplyb1b0bc480000gp/T/ipykernel_42461/3726899001.py:14: SettingWithCopyWarning: \n",
      "A value is trying to be set on a copy of a slice from a DataFrame\n",
      "\n",
      "See the caveats in the documentation: https://pandas.pydata.org/pandas-docs/stable/user_guide/indexing.html#returning-a-view-versus-a-copy\n",
      "  new_d[\"class_pdl1\"][new_d.pdl1_group.isin([\"1-49%\", \"<1%\"])] = 0\n",
      "/var/folders/km/l90xp47s19v3fplyb1b0bc480000gp/T/ipykernel_42461/3726899001.py:15: SettingWithCopyWarning: \n",
      "A value is trying to be set on a copy of a slice from a DataFrame\n",
      "\n",
      "See the caveats in the documentation: https://pandas.pydata.org/pandas-docs/stable/user_guide/indexing.html#returning-a-view-versus-a-copy\n",
      "  new_d[\"class_pdl1\"][new_d.pdl1_group.isin([\">50%\"])] = 1\n"
     ]
    }
   ],
   "source": [
    "chum_gen_pdl1, genetic_features = get_pdl1_class_data(\"clinical_CHUM\", \"Discovery-GenomicsTop5000-March22023\")\n",
    "chum_gen_pdl1[list(genetic_features)+[\"class_pdl1\"]].to_csv(\"../../Data/CHUM_genetics_pdl1_class.csv\")"
   ]
  },
  {
   "cell_type": "code",
   "execution_count": 4,
   "metadata": {},
   "outputs": [
    {
     "name": "stdout",
     "output_type": "stream",
     "text": [
      "59\n",
      "1    39\n",
      "0    15\n",
      "Name: class_pdl1, dtype: int64\n"
     ]
    },
    {
     "name": "stderr",
     "output_type": "stream",
     "text": [
      "/var/folders/km/l90xp47s19v3fplyb1b0bc480000gp/T/ipykernel_42461/3726899001.py:14: SettingWithCopyWarning: \n",
      "A value is trying to be set on a copy of a slice from a DataFrame\n",
      "\n",
      "See the caveats in the documentation: https://pandas.pydata.org/pandas-docs/stable/user_guide/indexing.html#returning-a-view-versus-a-copy\n",
      "  new_d[\"class_pdl1\"][new_d.pdl1_group.isin([\"1-49%\", \"<1%\"])] = 0\n",
      "/var/folders/km/l90xp47s19v3fplyb1b0bc480000gp/T/ipykernel_42461/3726899001.py:15: SettingWithCopyWarning: \n",
      "A value is trying to be set on a copy of a slice from a DataFrame\n",
      "\n",
      "See the caveats in the documentation: https://pandas.pydata.org/pandas-docs/stable/user_guide/indexing.html#returning-a-view-versus-a-copy\n",
      "  new_d[\"class_pdl1\"][new_d.pdl1_group.isin([\">50%\"])] = 1\n"
     ]
    }
   ],
   "source": [
    "iucpq_gen_pdl1, genetic_features = get_pdl1_class_data(\"clinical_IUCPQ\", \"ValidationIUCPQ-March2 2023\")\n",
    "iucpq_gen_pdl1[list(genetic_features)+[\"class_pdl1\"]].to_csv(\"../../Data/IUCPQ_genetics_pdl1_class.csv\")"
   ]
  },
  {
   "attachments": {},
   "cell_type": "markdown",
   "metadata": {},
   "source": [
    "# PFS - Creat df for R"
   ]
  },
  {
   "cell_type": "code",
   "execution_count": 5,
   "metadata": {},
   "outputs": [],
   "source": [
    "def get_pfs_class_data(clinical, features_df):\n",
    "    path='../../Data/'\n",
    "\n",
    "    ch_cl=pd.read_csv(path + clinical + '.csv')\n",
    "    chum_gen=pd.read_csv(path + features_df + '.csv')\n",
    "    chum_gen = helper.prep_genomics(chum_gen)\n",
    "    genetic_features = chum_gen.columns[1:]\n",
    "    new_d=pd.merge(ch_cl,chum_gen, on='oncotech_id')\n",
    "    print(len(new_d))\n",
    "    new_d.dropna(subset=[\"pfs_days\"], inplace=True)\n",
    "    new_d.reset_index(inplace=True)\n",
    "\n",
    "    new_d[\"class_pfs\"] = 4\n",
    "    new_d[\"class_pfs\"][new_d.pfs_days <= new_d.pfs_days.median()] = 0\n",
    "    new_d[\"class_pfs\"][new_d.pfs_days > new_d.pfs_days.median()] = 1\n",
    "    print(new_d[\"class_pfs\"].value_counts())\n",
    "    return new_d, genetic_features\n"
   ]
  },
  {
   "cell_type": "code",
   "execution_count": 6,
   "metadata": {},
   "outputs": [
    {
     "name": "stdout",
     "output_type": "stream",
     "text": [
      "72\n",
      "1    36\n",
      "0    36\n",
      "Name: class_pfs, dtype: int64\n"
     ]
    },
    {
     "name": "stderr",
     "output_type": "stream",
     "text": [
      "/var/folders/km/l90xp47s19v3fplyb1b0bc480000gp/T/ipykernel_42461/1289908119.py:14: SettingWithCopyWarning: \n",
      "A value is trying to be set on a copy of a slice from a DataFrame\n",
      "\n",
      "See the caveats in the documentation: https://pandas.pydata.org/pandas-docs/stable/user_guide/indexing.html#returning-a-view-versus-a-copy\n",
      "  new_d[\"class_pfs\"][new_d.pfs_days <= new_d.pfs_days.median()] = 0\n",
      "/var/folders/km/l90xp47s19v3fplyb1b0bc480000gp/T/ipykernel_42461/1289908119.py:15: SettingWithCopyWarning: \n",
      "A value is trying to be set on a copy of a slice from a DataFrame\n",
      "\n",
      "See the caveats in the documentation: https://pandas.pydata.org/pandas-docs/stable/user_guide/indexing.html#returning-a-view-versus-a-copy\n",
      "  new_d[\"class_pfs\"][new_d.pfs_days > new_d.pfs_days.median()] = 1\n"
     ]
    }
   ],
   "source": [
    "chum_gen_pfs, genetic_features = get_pfs_class_data(\"clinical_CHUM\", \"Discovery-GenomicsTop5000-March22023\")\n",
    "chum_gen_pfs[list(genetic_features)+[\"class_pfs\"]].to_csv(\"../../Data/CHUM_genetics_pfs_class.csv\")"
   ]
  },
  {
   "cell_type": "code",
   "execution_count": 7,
   "metadata": {},
   "outputs": [
    {
     "name": "stdout",
     "output_type": "stream",
     "text": [
      "59\n",
      "0    30\n",
      "1    29\n",
      "Name: class_pfs, dtype: int64\n"
     ]
    },
    {
     "name": "stderr",
     "output_type": "stream",
     "text": [
      "/var/folders/km/l90xp47s19v3fplyb1b0bc480000gp/T/ipykernel_42461/1289908119.py:14: SettingWithCopyWarning: \n",
      "A value is trying to be set on a copy of a slice from a DataFrame\n",
      "\n",
      "See the caveats in the documentation: https://pandas.pydata.org/pandas-docs/stable/user_guide/indexing.html#returning-a-view-versus-a-copy\n",
      "  new_d[\"class_pfs\"][new_d.pfs_days <= new_d.pfs_days.median()] = 0\n",
      "/var/folders/km/l90xp47s19v3fplyb1b0bc480000gp/T/ipykernel_42461/1289908119.py:15: SettingWithCopyWarning: \n",
      "A value is trying to be set on a copy of a slice from a DataFrame\n",
      "\n",
      "See the caveats in the documentation: https://pandas.pydata.org/pandas-docs/stable/user_guide/indexing.html#returning-a-view-versus-a-copy\n",
      "  new_d[\"class_pfs\"][new_d.pfs_days > new_d.pfs_days.median()] = 1\n"
     ]
    }
   ],
   "source": [
    "iucpq_gen_pfs, genetic_features = get_pfs_class_data(\"clinical_IUCPQ\", \"ValidationIUCPQ-March2 2023\")\n",
    "iucpq_gen_pfs[list(genetic_features)+[\"class_pfs\"]].to_csv(\"../../Data/IUCPQ_genetics_pfs_class.csv\")"
   ]
  },
  {
   "attachments": {},
   "cell_type": "markdown",
   "metadata": {},
   "source": [
    "# OS - Creat df for R"
   ]
  },
  {
   "cell_type": "code",
   "execution_count": 8,
   "metadata": {},
   "outputs": [],
   "source": [
    "def get_os_class_data(clinical, features_df):\n",
    "    path='../../Data/'\n",
    "\n",
    "    ch_cl=pd.read_csv(path + clinical + '.csv')\n",
    "    chum_gen=pd.read_csv(path + features_df + '.csv')\n",
    "    chum_gen = helper.prep_genomics(chum_gen)\n",
    "    genetic_features = chum_gen.columns[1:]\n",
    "    new_d=pd.merge(ch_cl,chum_gen, on='oncotech_id')\n",
    "    print(len(new_d))\n",
    "    new_d.dropna(subset=[\"os_days\"], inplace=True)\n",
    "    new_d.reset_index(inplace=True)\n",
    "\n",
    "    new_d[\"class_os\"] = 4\n",
    "    new_d[\"class_os\"][new_d.os_days <= new_d.os_days.median()] = 0\n",
    "    new_d[\"class_os\"][new_d.os_days > new_d.os_days.median()] = 1\n",
    "    print(new_d[\"class_os\"].value_counts())\n",
    "    return new_d, genetic_features\n"
   ]
  },
  {
   "cell_type": "code",
   "execution_count": 9,
   "metadata": {},
   "outputs": [
    {
     "name": "stdout",
     "output_type": "stream",
     "text": [
      "72\n",
      "1    36\n",
      "0    36\n",
      "Name: class_os, dtype: int64\n"
     ]
    },
    {
     "name": "stderr",
     "output_type": "stream",
     "text": [
      "/var/folders/km/l90xp47s19v3fplyb1b0bc480000gp/T/ipykernel_42461/1814997436.py:14: SettingWithCopyWarning: \n",
      "A value is trying to be set on a copy of a slice from a DataFrame\n",
      "\n",
      "See the caveats in the documentation: https://pandas.pydata.org/pandas-docs/stable/user_guide/indexing.html#returning-a-view-versus-a-copy\n",
      "  new_d[\"class_os\"][new_d.os_days <= new_d.os_days.median()] = 0\n",
      "/var/folders/km/l90xp47s19v3fplyb1b0bc480000gp/T/ipykernel_42461/1814997436.py:15: SettingWithCopyWarning: \n",
      "A value is trying to be set on a copy of a slice from a DataFrame\n",
      "\n",
      "See the caveats in the documentation: https://pandas.pydata.org/pandas-docs/stable/user_guide/indexing.html#returning-a-view-versus-a-copy\n",
      "  new_d[\"class_os\"][new_d.os_days > new_d.os_days.median()] = 1\n"
     ]
    }
   ],
   "source": [
    "chum_gen_os, genetic_features = get_os_class_data(\"clinical_CHUM\", \"Discovery-GenomicsTop5000-March22023\")\n",
    "chum_gen_os[list(genetic_features)+[\"class_os\"]].to_csv(\"../../Data/CHUM_genetics_os_class.csv\")"
   ]
  },
  {
   "cell_type": "code",
   "execution_count": 10,
   "metadata": {},
   "outputs": [
    {
     "name": "stdout",
     "output_type": "stream",
     "text": [
      "59\n",
      "0    30\n",
      "1    29\n",
      "Name: class_os, dtype: int64\n"
     ]
    },
    {
     "name": "stderr",
     "output_type": "stream",
     "text": [
      "/var/folders/km/l90xp47s19v3fplyb1b0bc480000gp/T/ipykernel_42461/1814997436.py:14: SettingWithCopyWarning: \n",
      "A value is trying to be set on a copy of a slice from a DataFrame\n",
      "\n",
      "See the caveats in the documentation: https://pandas.pydata.org/pandas-docs/stable/user_guide/indexing.html#returning-a-view-versus-a-copy\n",
      "  new_d[\"class_os\"][new_d.os_days <= new_d.os_days.median()] = 0\n",
      "/var/folders/km/l90xp47s19v3fplyb1b0bc480000gp/T/ipykernel_42461/1814997436.py:15: SettingWithCopyWarning: \n",
      "A value is trying to be set on a copy of a slice from a DataFrame\n",
      "\n",
      "See the caveats in the documentation: https://pandas.pydata.org/pandas-docs/stable/user_guide/indexing.html#returning-a-view-versus-a-copy\n",
      "  new_d[\"class_os\"][new_d.os_days > new_d.os_days.median()] = 1\n"
     ]
    }
   ],
   "source": [
    "iucpq_gen_os, genetic_features = get_os_class_data(\"clinical_IUCPQ\", \"ValidationIUCPQ-March2 2023\")\n",
    "iucpq_gen_os[list(genetic_features)+[\"class_os\"]].to_csv(\"../../Data/IUCPQ_genetics_os_class.csv\")"
   ]
  },
  {
   "cell_type": "code",
   "execution_count": null,
   "metadata": {},
   "outputs": [],
   "source": []
  },
  {
   "cell_type": "code",
   "execution_count": null,
   "metadata": {},
   "outputs": [],
   "source": []
  },
  {
   "attachments": {},
   "cell_type": "markdown",
   "metadata": {},
   "source": [
    "# Distributions of enpoins in datasets"
   ]
  },
  {
   "cell_type": "code",
   "execution_count": 24,
   "metadata": {},
   "outputs": [
    {
     "name": "stdout",
     "output_type": "stream",
     "text": [
      "iucpq\n",
      "1    39\n",
      "0    15\n",
      "Name: class_pdl1, dtype: int64\n",
      "CHUM\n",
      "0    39\n",
      "1    32\n",
      "Name: class_pdl1, dtype: int64\n"
     ]
    }
   ],
   "source": [
    "endpoint = \"class_pdl1\"\n",
    "print(\"iucpq\")\n",
    "print(iucpq_gen_pdl1[endpoint].value_counts())\n",
    "print(\"CHUM\")\n",
    "print(chum_gen_pdl1[endpoint].value_counts())"
   ]
  },
  {
   "cell_type": "code",
   "execution_count": 26,
   "metadata": {},
   "outputs": [
    {
     "name": "stdout",
     "output_type": "stream",
     "text": [
      "iucpq\n",
      "0    30\n",
      "1    29\n",
      "Name: class_pfs, dtype: int64\n",
      "CHUM\n",
      "1    36\n",
      "0    36\n",
      "Name: class_pfs, dtype: int64\n"
     ]
    }
   ],
   "source": [
    "endpoint = \"class_pfs\"\n",
    "print(\"iucpq\")\n",
    "print(iucpq_gen_pfs[endpoint].value_counts())\n",
    "print(\"CHUM\")\n",
    "print(chum_gen_pfs[endpoint].value_counts())"
   ]
  },
  {
   "cell_type": "code",
   "execution_count": 27,
   "metadata": {},
   "outputs": [
    {
     "name": "stdout",
     "output_type": "stream",
     "text": [
      "iucpq\n",
      "0    30\n",
      "1    29\n",
      "Name: class_os, dtype: int64\n",
      "CHUM\n",
      "1    36\n",
      "0    36\n",
      "Name: class_os, dtype: int64\n"
     ]
    }
   ],
   "source": [
    "endpoint = \"class_os\"\n",
    "print(\"iucpq\")\n",
    "print(iucpq_gen_os[endpoint].value_counts())\n",
    "print(\"CHUM\")\n",
    "print(chum_gen_os[endpoint].value_counts())"
   ]
  },
  {
   "cell_type": "code",
   "execution_count": null,
   "metadata": {},
   "outputs": [],
   "source": []
  }
 ],
 "metadata": {
  "kernelspec": {
   "display_name": "venv1",
   "language": "python",
   "name": "python3"
  },
  "language_info": {
   "codemirror_mode": {
    "name": "ipython",
    "version": 3
   },
   "file_extension": ".py",
   "mimetype": "text/x-python",
   "name": "python",
   "nbconvert_exporter": "python",
   "pygments_lexer": "ipython3",
   "version": "3.9.12"
  },
  "orig_nbformat": 4,
  "vscode": {
   "interpreter": {
    "hash": "69e36361f029340edbbe20fd5b88d51f79a0b0bf2ee73f9b7b442d52fbf2cb23"
   }
  }
 },
 "nbformat": 4,
 "nbformat_minor": 2
}
