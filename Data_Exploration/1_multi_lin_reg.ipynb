{
 "cells": [
  {
   "cell_type": "code",
   "execution_count": 1,
   "metadata": {},
   "outputs": [],
   "source": [
    "import numpy as np\n",
    "import pandas as pd"
   ]
  },
  {
   "cell_type": "markdown",
   "metadata": {},
   "source": [
    "# Multiple Linear Regression with clinical data (CHUM)\n",
    "- y = overall survival (os_days) in days\n",
    "- x = sex, age, weight, height, smoking_habit\n",
    "\n",
    "**TODO:**\n",
    "- [x] smoking_habit to 1-current, 0-never, 0.5-former\n",
    "- [x] Create x and y\n",
    "- [x] apply regression\n",
    "\n"
   ]
  },
  {
   "cell_type": "code",
   "execution_count": 2,
   "metadata": {},
   "outputs": [],
   "source": [
    "clinical_chum = pd.read_csv(\"../../Data/clinical_CHUM.csv\")\n",
    "#clinical_iucpq = pd.read_csv(\"../../Data/clinical_IUCPQ.csv\")\n",
    "clinical_chum.drop(columns=\"Unnamed: 0\", inplace=True)\n",
    "#clinical_iucpq.drop(columns=\"Unnamed: 0\", inplace=True)"
   ]
  },
  {
   "cell_type": "code",
   "execution_count": 4,
   "metadata": {},
   "outputs": [],
   "source": [
    "x_pre = clinical_chum[[\"sex\", \"age\", \"weight\", \"height\", \"smoking_habit\"]]\n",
    "y = clinical_chum[\"os_days\"]"
   ]
  },
  {
   "cell_type": "code",
   "execution_count": 5,
   "metadata": {},
   "outputs": [
    {
     "name": "stderr",
     "output_type": "stream",
     "text": [
      "/var/folders/qt/hv3gq0517rnfk_mkqd7c831m0000gn/T/ipykernel_12979/2655023891.py:5: SettingWithCopyWarning: \n",
      "A value is trying to be set on a copy of a slice from a DataFrame.\n",
      "Try using .loc[row_indexer,col_indexer] = value instead\n",
      "\n",
      "See the caveats in the documentation: https://pandas.pydata.org/pandas-docs/stable/user_guide/indexing.html#returning-a-view-versus-a-copy\n",
      "  x_pre['sex_binary'] = np.select(conditions_sex, values_sex)\n",
      "/var/folders/qt/hv3gq0517rnfk_mkqd7c831m0000gn/T/ipykernel_12979/2655023891.py:13: SettingWithCopyWarning: \n",
      "A value is trying to be set on a copy of a slice from a DataFrame.\n",
      "Try using .loc[row_indexer,col_indexer] = value instead\n",
      "\n",
      "See the caveats in the documentation: https://pandas.pydata.org/pandas-docs/stable/user_guide/indexing.html#returning-a-view-versus-a-copy\n",
      "  x_pre['smoking_habit_encoded'] = np.select(conditions_sex, values_sex)\n",
      "/var/folders/qt/hv3gq0517rnfk_mkqd7c831m0000gn/T/ipykernel_12979/2655023891.py:16: SettingWithCopyWarning: \n",
      "A value is trying to be set on a copy of a slice from a DataFrame\n",
      "\n",
      "See the caveats in the documentation: https://pandas.pydata.org/pandas-docs/stable/user_guide/indexing.html#returning-a-view-versus-a-copy\n",
      "  x_pre.drop(columns=[\"sex\", \"smoking_habit\"], inplace= True)\n"
     ]
    }
   ],
   "source": [
    "# encode sex to numbers\n",
    "conditions_sex = [(x_pre['sex'] == \"Female\"),\n",
    "                    (x_pre['sex'] == \"Male\")]\n",
    "values_sex = [0, 1]\n",
    "x_pre['sex_binary'] = np.select(conditions_sex, values_sex)\n",
    "\n",
    "# encode smoking habit\n",
    "conditions_smoking = [(x_pre['smoking_habit'] == \"Current\"),\n",
    "                        (x_pre['smoking_habit'] == \"Former\"),  \n",
    "                        (x_pre['smoking_habit'] == \"Never\"),  \n",
    "                        (x_pre['smoking_habit'] == \"nan\")]\n",
    "values_smoking = [1, 0.5, 0, np.NAN]\n",
    "x_pre['smoking_habit_encoded'] = np.select(conditions_sex, values_sex)\n",
    "\n",
    "# drop useless columns\n",
    "x_pre.drop(columns=[\"sex\", \"smoking_habit\"], inplace= True)"
   ]
  },
  {
   "cell_type": "code",
   "execution_count": 6,
   "metadata": {},
   "outputs": [
    {
     "data": {
      "text/html": [
       "<div>\n",
       "<style scoped>\n",
       "    .dataframe tbody tr th:only-of-type {\n",
       "        vertical-align: middle;\n",
       "    }\n",
       "\n",
       "    .dataframe tbody tr th {\n",
       "        vertical-align: top;\n",
       "    }\n",
       "\n",
       "    .dataframe thead th {\n",
       "        text-align: right;\n",
       "    }\n",
       "</style>\n",
       "<table border=\"1\" class=\"dataframe\">\n",
       "  <thead>\n",
       "    <tr style=\"text-align: right;\">\n",
       "      <th></th>\n",
       "      <th>age</th>\n",
       "      <th>weight</th>\n",
       "      <th>height</th>\n",
       "      <th>sex_binary</th>\n",
       "      <th>smoking_habit_encoded</th>\n",
       "    </tr>\n",
       "  </thead>\n",
       "  <tbody>\n",
       "    <tr>\n",
       "      <th>count</th>\n",
       "      <td>309.000000</td>\n",
       "      <td>309.000000</td>\n",
       "      <td>309.000000</td>\n",
       "      <td>309.000000</td>\n",
       "      <td>309.000000</td>\n",
       "    </tr>\n",
       "    <tr>\n",
       "      <th>mean</th>\n",
       "      <td>66.469715</td>\n",
       "      <td>69.590939</td>\n",
       "      <td>165.899676</td>\n",
       "      <td>0.482201</td>\n",
       "      <td>0.482201</td>\n",
       "    </tr>\n",
       "    <tr>\n",
       "      <th>std</th>\n",
       "      <td>8.795740</td>\n",
       "      <td>16.815582</td>\n",
       "      <td>9.597735</td>\n",
       "      <td>0.500494</td>\n",
       "      <td>0.500494</td>\n",
       "    </tr>\n",
       "    <tr>\n",
       "      <th>min</th>\n",
       "      <td>39.483000</td>\n",
       "      <td>31.000000</td>\n",
       "      <td>144.000000</td>\n",
       "      <td>0.000000</td>\n",
       "      <td>0.000000</td>\n",
       "    </tr>\n",
       "    <tr>\n",
       "      <th>25%</th>\n",
       "      <td>61.979000</td>\n",
       "      <td>57.600000</td>\n",
       "      <td>158.000000</td>\n",
       "      <td>0.000000</td>\n",
       "      <td>0.000000</td>\n",
       "    </tr>\n",
       "    <tr>\n",
       "      <th>50%</th>\n",
       "      <td>67.362000</td>\n",
       "      <td>67.300000</td>\n",
       "      <td>165.000000</td>\n",
       "      <td>0.000000</td>\n",
       "      <td>0.000000</td>\n",
       "    </tr>\n",
       "    <tr>\n",
       "      <th>75%</th>\n",
       "      <td>72.225000</td>\n",
       "      <td>80.000000</td>\n",
       "      <td>174.000000</td>\n",
       "      <td>1.000000</td>\n",
       "      <td>1.000000</td>\n",
       "    </tr>\n",
       "    <tr>\n",
       "      <th>max</th>\n",
       "      <td>88.999000</td>\n",
       "      <td>165.000000</td>\n",
       "      <td>190.000000</td>\n",
       "      <td>1.000000</td>\n",
       "      <td>1.000000</td>\n",
       "    </tr>\n",
       "  </tbody>\n",
       "</table>\n",
       "</div>"
      ],
      "text/plain": [
       "              age      weight      height  sex_binary  smoking_habit_encoded\n",
       "count  309.000000  309.000000  309.000000  309.000000             309.000000\n",
       "mean    66.469715   69.590939  165.899676    0.482201               0.482201\n",
       "std      8.795740   16.815582    9.597735    0.500494               0.500494\n",
       "min     39.483000   31.000000  144.000000    0.000000               0.000000\n",
       "25%     61.979000   57.600000  158.000000    0.000000               0.000000\n",
       "50%     67.362000   67.300000  165.000000    0.000000               0.000000\n",
       "75%     72.225000   80.000000  174.000000    1.000000               1.000000\n",
       "max     88.999000  165.000000  190.000000    1.000000               1.000000"
      ]
     },
     "execution_count": 6,
     "metadata": {},
     "output_type": "execute_result"
    }
   ],
   "source": [
    "x_pre.describe()"
   ]
  },
  {
   "cell_type": "markdown",
   "metadata": {},
   "source": [
    "# Multiple Linear Regression"
   ]
  },
  {
   "cell_type": "code",
   "execution_count": 10,
   "metadata": {},
   "outputs": [],
   "source": [
    "from sklearn.model_selection import train_test_split\n",
    "from sklearn.linear_model import LinearRegression\n",
    "from sklearn import metrics\n",
    "\n",
    "def mult_lin_reg(x_df, y):\n",
    "    x_train, x_test, y_train, y_test = train_test_split(x_df, y, test_size = 0.3, random_state = 100)\n",
    "\n",
    "    #Fitting the Multiple Linear Regression model\n",
    "    mlr = LinearRegression()  \n",
    "    mlr.fit(x_train, y_train)\n",
    "    print(\"Intercept: \", mlr.intercept_)\n",
    "    print(\"Coefficients:\")\n",
    "    list(zip(x_df, mlr.coef_))\n",
    "\n",
    "    #Prediction of test set\n",
    "    y_pred_mlr = mlr.predict(x_test)\n",
    "    #Actual value and the predicted value\n",
    "    mlr_diff = pd.DataFrame({'Actual value': y_test, 'Predicted value': y_pred_mlr})\n",
    "    mlr_diff.head()\n",
    "\n",
    "    # Errors\n",
    "    meanAbErr = metrics.mean_absolute_error(y_test, y_pred_mlr)\n",
    "    meanSqErr = metrics.mean_squared_error(y_test, y_pred_mlr)\n",
    "    rootMeanSqErr = np.sqrt(metrics.mean_squared_error(y_test, y_pred_mlr))\n",
    "    print('R squared: {:.2f}'.format(mlr.score(x_df,y)*100))\n",
    "    print('Mean Absolute Error:', meanAbErr)\n",
    "    print('Mean Square Error:', meanSqErr)\n",
    "    print('Root Mean Square Error:', rootMeanSqErr)\n"
   ]
  },
  {
   "cell_type": "markdown",
   "metadata": {},
   "source": [
    "# One-Hot Encode Categorical data"
   ]
  },
  {
   "cell_type": "code",
   "execution_count": 11,
   "metadata": {},
   "outputs": [
    {
     "data": {
      "text/plain": [
       "Index(['oncotech_id', 'center', 'dob', 'age', 'weight', 'height', 'bmi',\n",
       "       'smoking_1st_io', 'date_patho_dx', 'ecog_status', 'histology_group',\n",
       "       'stage_patho_dx', 'stage_group_patho_dx', 'stage_1st_io',\n",
       "       'stage_group_1st_io', 'biospecimen', 'biosite', 'alk_status',\n",
       "       'braf_status', 'egfr_status', 'kras_status', 'met_status',\n",
       "       'nras_status', 'pdl1_tps', 'pdl1_tps_num', 'pdl1_group', 'ntrk_status',\n",
       "       'ret_status', 'ros1_status', 'tp53_status', 'pre_radiation',\n",
       "       'pre_chemo', 'first_line_io', 'io_type', 'io_start_date',\n",
       "       'io_finish_date', 'date_progression', 'date_death',\n",
       "       'date_last_follow_up', 'progression', 'death', 'recist_9weeks',\n",
       "       'recist_6months', 'recist_12months', 'best_clinical_response', 'orr',\n",
       "       'pfs_days', 'pfs_months', 'os_days', 'os_months', 'pfs_6months',\n",
       "       'pfs_1year', 'pfs_2year', 'os_1year', 'sex_Female', 'sex_Male',\n",
       "       'smoke_Current', 'smoke_Former', 'smoke_Never'],\n",
       "      dtype='object')"
      ]
     },
     "execution_count": 11,
     "metadata": {},
     "output_type": "execute_result"
    }
   ],
   "source": [
    "categorical_cols = [\"sex\",\"smoking_habit\", \"smoking_first_io\", \"ecog_status\", \"histology_group\", \"stage_patho_dx\", \"stage_group_patho_dx\",\"stage_1st_io\", \"stage_group_1st_io\", \"biospecimen\", \"biosite\", \"alk_status\", \"braf_status\", \"egfr_status\", \"kras_status\", \"met_status\", \"nras_status\", \"pdl1_tps\", \"pdl1_tps_num\", \"pdl1_group\", \"ntrk_status\", \"ret_status\", \"ros1_status\", \"tp53_status\", \"pre_chemo\", \"first_line_io\", \"io_type\"]\n",
    "\n",
    "# Which columns do I want to use?\n",
    "# sex and smoking habit\n",
    "clinical_chum_one_hot = pd.get_dummies(clinical_chum, columns=[\"sex\", \"smoking_habit\"], prefix=[\"sex\", \"smoke\"])\n",
    "clinical_chum_one_hot.columns"
   ]
  },
  {
   "cell_type": "code",
   "execution_count": 12,
   "metadata": {},
   "outputs": [
    {
     "name": "stdout",
     "output_type": "stream",
     "text": [
      "Intercept:  -686.3997724059951\n",
      "Coefficients:\n",
      "R squared: 4.48\n",
      "Mean Absolute Error: 333.7234081060195\n",
      "Mean Square Error: 170746.4836686787\n",
      "Root Mean Square Error: 413.2148154031734\n"
     ]
    }
   ],
   "source": [
    "x_one_hot = clinical_chum_one_hot[['age', 'weight', 'height','sex_Female', 'sex_Male',\n",
    "       'smoke_Current', 'smoke_Former', 'smoke_Never']]\n",
    "y = clinical_chum_one_hot[\"os_days\"]\n",
    "mult_lin_reg(x_one_hot, y)"
   ]
  },
  {
   "cell_type": "code",
   "execution_count": null,
   "metadata": {},
   "outputs": [],
   "source": []
  }
 ],
 "metadata": {
  "kernelspec": {
   "display_name": "Python 3.9.12 ('venv1': venv)",
   "language": "python",
   "name": "python3"
  },
  "language_info": {
   "codemirror_mode": {
    "name": "ipython",
    "version": 3
   },
   "file_extension": ".py",
   "mimetype": "text/x-python",
   "name": "python",
   "nbconvert_exporter": "python",
   "pygments_lexer": "ipython3",
   "version": "3.9.12"
  },
  "orig_nbformat": 4,
  "vscode": {
   "interpreter": {
    "hash": "7b3a22f10350ff42b10c7145a9dcbf4d9ae2fbb1bd2c68a1934da615c7ddf615"
   }
  }
 },
 "nbformat": 4,
 "nbformat_minor": 2
}
