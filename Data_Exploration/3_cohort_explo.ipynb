{
 "cells": [
  {
   "cell_type": "code",
   "execution_count": 1,
   "metadata": {},
   "outputs": [],
   "source": [
    "import numpy as np\n",
    "import pandas as pd\n",
    "import matplotlib\n",
    "import seaborn as sns\n",
    "import matplotlib.pyplot as plt"
   ]
  },
  {
   "cell_type": "code",
   "execution_count": 2,
   "metadata": {},
   "outputs": [],
   "source": [
    "clinical_chum = pd.read_csv(\"../../Data/clinical_CHUM.csv\")\n",
    "clinical_iucpq = pd.read_csv(\"../../Data/clinical_IUCPQ.csv\")\n",
    "clinical_chum.drop(columns=\"Unnamed: 0\", inplace=True)\n",
    "clinical_iucpq.drop(columns=\"Unnamed: 0\", inplace=True)\n",
    "\n",
    "pyrads_chum = pd.read_csv(\"../../Data/PyRads_CHUM.csv\")\n",
    "pyrads_iucpq = pd.read_csv(\"../../Data/PyRads_IUCPQ.csv\")\n",
    "pyrads_chum.drop(columns=\"Unnamed: 0\", inplace=True)\n",
    "pyrads_iucpq.drop(columns=\"Unnamed: 0\", inplace=True)"
   ]
  },
  {
   "cell_type": "code",
   "execution_count": 3,
   "metadata": {},
   "outputs": [
    {
     "name": "stdout",
     "output_type": "stream",
     "text": [
      "CHUM:\n",
      "Nr. Patients in clincial:  309\n",
      "Nr. Patients in merge:  223\n",
      "Merge only now: \n",
      "Sex:\n",
      " Female    112\n",
      "Male      111\n",
      "Name: sex, dtype: int64\n",
      "Smoking Habit:\n",
      " Former     145\n",
      "Current     63\n",
      "Never       12\n",
      "Name: smoking_habit, dtype: int64\n",
      "Stage Patho Group:\n",
      " IV     123\n",
      "III     55\n",
      "II      25\n",
      "I       20\n",
      "Name: stage_group_patho_dx, dtype: int64\n",
      "Stage Patho dx:\n",
      " IV      111\n",
      "IIIA     30\n",
      "IIIB     18\n",
      "IIB      13\n",
      "IA       12\n",
      "IIA       8\n",
      "IVA       7\n",
      "IB        6\n",
      "IVB       5\n",
      "IIIC      4\n",
      "II        4\n",
      "III       3\n",
      "I         2\n",
      "Name: stage_patho_dx, dtype: int64\n",
      "Age Mean: 66.26044394618835 Age Std: 9.05367171473763\n",
      "ECOG Status:\n",
      " 1    114\n",
      "0     71\n",
      "2     34\n",
      "3      4\n",
      "Name: ecog_status, dtype: int64\n",
      "IUCPQ:\n",
      "Nr. Patients in clincial:  231\n",
      "Nr. Patients in merge:  164\n",
      "Merge only now: \n",
      "Sex:\n",
      " Male      83\n",
      "Female    79\n",
      "Name: sex, dtype: int64\n",
      "Smoking Habit:\n",
      " Former     110\n",
      "Current     43\n",
      "Never        9\n",
      "Name: smoking_habit, dtype: int64\n",
      "Stage Patho Group:\n",
      " IV     108\n",
      "III     42\n",
      "I        8\n",
      "II       4\n",
      "Name: stage_group_patho_dx, dtype: int64\n",
      "Stage Patho dx:\n",
      " IVA     67\n",
      "IVB     41\n",
      "IIIA    21\n",
      "IIIB    14\n",
      "IIIC     7\n",
      "IB       4\n",
      "IA3      3\n",
      "IIB      3\n",
      "IIA      1\n",
      "IA1      1\n",
      "Name: stage_patho_dx, dtype: int64\n",
      "Age Mean: 67.75159876543209 Age Std: 7.229701740761588\n",
      "ECOG Status:\n",
      " 1.0    101\n",
      "0.0     42\n",
      "2.0      9\n",
      "3.0      3\n",
      "Name: ecog_status, dtype: int64\n"
     ]
    }
   ],
   "source": [
    "def info_cohort(df_clinical, df_pyrads, cohort_str):\n",
    "    print(cohort_str+\":\")\n",
    "    print(\"Nr. Patients in clincial: \", len(df_clinical.oncotech_id.unique()))\n",
    "\n",
    "    df_merge = df_clinical.merge(df_pyrads, how=\"right\", on=\"oncotech_id\")\n",
    "    print(\"Nr. Patients in merge: \", len(df_merge.oncotech_id.unique()))\n",
    "    #display(df_merge)\n",
    "    print(\"Merge only now: \")\n",
    "    print(\"Sex:\\n\", df_merge.sex.value_counts())\n",
    "    print(\"Smoking Habit:\\n\", df_merge.smoking_habit.value_counts())\n",
    "    print(\"Stage Patho Group:\\n\", df_merge.stage_group_patho_dx.value_counts())\n",
    "    print(\"Stage Patho dx:\\n\", df_merge.stage_patho_dx.value_counts())\n",
    "    df_merge[\"age_int\"] = df_merge.age.round(0)\n",
    "    #print(\"Youngest: \", df_merge.age_int.min())\n",
    "    #print(\"Oldest: \", df_merge.age_int.max())\n",
    "    #print(\"< 45: \", len(df_merge[df_merge.age_int <= 45]))\n",
    "    #print(\"46-55: \", len(df_merge[(df_merge.age_int >45)&(df_merge.age_int <= 55)]))\n",
    "    #print(\"56-65: \", len(df_merge[(df_merge.age_int >55)&(df_merge.age_int <= 65)]))\n",
    "    #print(\"66-75: \", len(df_merge[(df_merge.age_int >65)&(df_merge.age_int <= 75)]))\n",
    "    #print(\"> 75: \", len(df_merge[df_merge.age_int > 75]))\n",
    "    print(\"Age Mean: {} Age Std: {}\".format(df_merge.age.mean(), df_merge.age.std()))\n",
    "    print(\"ECOG Status:\\n\", df_merge.ecog_status.value_counts())\n",
    "info_cohort(clinical_chum, pyrads_chum, \"CHUM\")\n",
    "info_cohort(clinical_iucpq, pyrads_iucpq, \"IUCPQ\")"
   ]
  },
  {
   "cell_type": "code",
   "execution_count": 4,
   "metadata": {},
   "outputs": [
    {
     "data": {
      "text/plain": [
       "Index(['oncotech_id', 'center', 'sex', 'dob', 'age', 'weight', 'height', 'bmi',\n",
       "       'smoking_habit', 'smoking_1st_io', 'date_patho_dx', 'ecog_status',\n",
       "       'histology_group', 'stage_patho_dx', 'stage_group_patho_dx',\n",
       "       'stage_1st_io', 'stage_group_1st_io', 'biospecimen', 'biosite',\n",
       "       'alk_status', 'braf_status', 'egfr_status', 'kras_status', 'met_status',\n",
       "       'nras_status', 'pdl1_tps', 'pdl1_tps_num', 'pdl1_group', 'ntrk_status',\n",
       "       'ret_status', 'ros1_status', 'tp53_status', 'pre_radiation',\n",
       "       'pre_chemo', 'first_line_io', 'io_type', 'io_start_date',\n",
       "       'io_finish_date', 'date_progression', 'date_death',\n",
       "       'date_last_follow_up', 'progression', 'death', 'recist_9weeks',\n",
       "       'recist_6months', 'recist_12months', 'best_clinical_response', 'orr',\n",
       "       'pfs_days', 'pfs_months', 'os_days', 'os_months', 'pfs_6months',\n",
       "       'pfs_1year', 'pfs_2year', 'os_1year'],\n",
       "      dtype='object')"
      ]
     },
     "execution_count": 4,
     "metadata": {},
     "output_type": "execute_result"
    }
   ],
   "source": [
    "clinical_chum.columns"
   ]
  },
  {
   "cell_type": "code",
   "execution_count": 12,
   "metadata": {},
   "outputs": [],
   "source": [
    "CHUM_os_days = clinical_chum.os_days\n",
    "IUCPQ_os_days = clinical_iucpq.os_days\n"
   ]
  },
  {
   "cell_type": "code",
   "execution_count": 28,
   "metadata": {},
   "outputs": [
    {
     "data": {
      "text/plain": [
       "<matplotlib.legend.Legend at 0x12bcaeb50>"
      ]
     },
     "execution_count": 28,
     "metadata": {},
     "output_type": "execute_result"
    },
    {
     "data": {
      "image/png": "[encoded data removed]",
      "text/plain": [
       "<Figure size 640x480 with 1 Axes>"
      ]
     },
     "metadata": {},
     "output_type": "display_data"
    }
   ],
   "source": [
    "ax = plt.hist([CHUM_os_days, IUCPQ_os_days], color=['r','b'], alpha=0.5, label=[\"CHUM\", \"IUCPQ\"])\n",
    "#ax.set(xlabel='os_days', ylabel='Nr. of patients')\n",
    "plt.xlabel(\"os_days\")\n",
    "plt.ylabel(\"Nr. of patients\")\n",
    "plt.legend()"
   ]
  },
  {
   "cell_type": "code",
   "execution_count": null,
   "metadata": {},
   "outputs": [],
   "source": []
  }
 ],
 "metadata": {
  "kernelspec": {
   "display_name": "Python 3.9.12 ('venv1': venv)",
   "language": "python",
   "name": "python3"
  },
  "language_info": {
   "codemirror_mode": {
    "name": "ipython",
    "version": 3
   },
   "file_extension": ".py",
   "mimetype": "text/x-python",
   "name": "python",
   "nbconvert_exporter": "python",
   "pygments_lexer": "ipython3",
   "version": "3.9.12"
  },
  "orig_nbformat": 4,
  "vscode": {
   "interpreter": {
    "hash": "69e36361f029340edbbe20fd5b88d51f79a0b0bf2ee73f9b7b442d52fbf2cb23"
   }
  }
 },
 "nbformat": 4,
 "nbformat_minor": 2
}
